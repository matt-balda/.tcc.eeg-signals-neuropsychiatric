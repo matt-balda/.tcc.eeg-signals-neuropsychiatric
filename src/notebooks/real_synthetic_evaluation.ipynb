{
 "cells": [
  {
   "cell_type": "code",
   "execution_count": 19,
   "id": "5f5411ac",
   "metadata": {},
   "outputs": [],
   "source": [
    "import pandas as pd\n",
    "from sklearn.decomposition import PCA\n",
    "from sklearn.preprocessing import LabelEncoder\n",
    "import matplotlib.pyplot as plt\n",
    "import numpy as np\n",
    "from IPython.display import display, HTML"
   ]
  },
  {
   "cell_type": "code",
   "execution_count": 20,
   "id": "b08d1cc0",
   "metadata": {},
   "outputs": [],
   "source": [
    "df = pd.read_csv('../input/eeg-psychiatric-disorders-dataset/EEG.machinelearing_data_BRMH.csv')\n",
    "df_synthetic_spec = pd.read_csv('../input/synthetic-samples-specific-disorder-ctgan/synthetic_samples_specific_disorder_ctgan.csv', index_col=0)\n",
    "df_synthetic_main = pd.read_csv('../input/synthetic-samples-main-disorder-ctgan/synthetic_samples_main_disorder_ctgan.csv', index_col=0)"
   ]
  },
  {
   "cell_type": "code",
   "execution_count": 13,
   "id": "4cb698dc",
   "metadata": {},
   "outputs": [
    {
     "name": "stdout",
     "output_type": "stream",
     "text": [
      "Requirement already satisfied: numpy in /usr/local/lib/python3.11/dist-packages (1.26.4)\n",
      "Requirement already satisfied: pandas in /usr/local/lib/python3.11/dist-packages (2.2.3)\n",
      "Requirement already satisfied: scipy in /usr/local/lib/python3.11/dist-packages (1.15.2)\n",
      "Requirement already satisfied: matplotlib in /usr/local/lib/python3.11/dist-packages (3.7.5)\n",
      "Collecting dython\n",
      "  Downloading dython-0.7.9-py3-none-any.whl.metadata (2.9 kB)\n",
      "Requirement already satisfied: mkl_fft in /usr/local/lib/python3.11/dist-packages (from numpy) (1.3.8)\n",
      "Requirement already satisfied: mkl_random in /usr/local/lib/python3.11/dist-packages (from numpy) (1.2.4)\n",
      "Requirement already satisfied: mkl_umath in /usr/local/lib/python3.11/dist-packages (from numpy) (0.1.1)\n",
      "Requirement already satisfied: mkl in /usr/local/lib/python3.11/dist-packages (from numpy) (2025.1.0)\n",
      "Requirement already satisfied: tbb4py in /usr/local/lib/python3.11/dist-packages (from numpy) (2022.1.0)\n",
      "Requirement already satisfied: mkl-service in /usr/local/lib/python3.11/dist-packages (from numpy) (2.4.1)\n",
      "Requirement already satisfied: python-dateutil>=2.8.2 in /usr/local/lib/python3.11/dist-packages (from pandas) (2.9.0.post0)\n",
      "Requirement already satisfied: pytz>=2020.1 in /usr/local/lib/python3.11/dist-packages (from pandas) (2025.2)\n",
      "Requirement already satisfied: tzdata>=2022.7 in /usr/local/lib/python3.11/dist-packages (from pandas) (2025.2)\n",
      "Requirement already satisfied: contourpy>=1.0.1 in /usr/local/lib/python3.11/dist-packages (from matplotlib) (1.3.1)\n",
      "Requirement already satisfied: cycler>=0.10 in /usr/local/lib/python3.11/dist-packages (from matplotlib) (0.12.1)\n",
      "Requirement already satisfied: fonttools>=4.22.0 in /usr/local/lib/python3.11/dist-packages (from matplotlib) (4.56.0)\n",
      "Requirement already satisfied: kiwisolver>=1.0.1 in /usr/local/lib/python3.11/dist-packages (from matplotlib) (1.4.8)\n",
      "Requirement already satisfied: packaging>=20.0 in /usr/local/lib/python3.11/dist-packages (from matplotlib) (24.2)\n",
      "Requirement already satisfied: pillow>=6.2.0 in /usr/local/lib/python3.11/dist-packages (from matplotlib) (11.1.0)\n",
      "Requirement already satisfied: pyparsing>=2.3.1 in /usr/local/lib/python3.11/dist-packages (from matplotlib) (3.2.1)\n",
      "Requirement already satisfied: seaborn>=0.12.0 in /usr/local/lib/python3.11/dist-packages (from dython) (0.12.2)\n",
      "Requirement already satisfied: scikit-learn>=0.24.2 in /usr/local/lib/python3.11/dist-packages (from dython) (1.2.2)\n",
      "Requirement already satisfied: psutil>=5.9.1 in /usr/local/lib/python3.11/dist-packages (from dython) (7.0.0)\n",
      "Requirement already satisfied: setuptools in /usr/local/lib/python3.11/dist-packages (from dython) (75.1.0)\n",
      "Requirement already satisfied: six>=1.5 in /usr/local/lib/python3.11/dist-packages (from python-dateutil>=2.8.2->pandas) (1.17.0)\n",
      "Requirement already satisfied: joblib>=1.1.1 in /usr/local/lib/python3.11/dist-packages (from scikit-learn>=0.24.2->dython) (1.4.2)\n",
      "Requirement already satisfied: threadpoolctl>=2.0.0 in /usr/local/lib/python3.11/dist-packages (from scikit-learn>=0.24.2->dython) (3.6.0)\n",
      "Requirement already satisfied: intel-openmp<2026,>=2024 in /usr/local/lib/python3.11/dist-packages (from mkl->numpy) (2024.2.0)\n",
      "Requirement already satisfied: tbb==2022.* in /usr/local/lib/python3.11/dist-packages (from mkl->numpy) (2022.1.0)\n",
      "Requirement already satisfied: tcmlib==1.* in /usr/local/lib/python3.11/dist-packages (from tbb==2022.*->mkl->numpy) (1.2.0)\n",
      "Requirement already satisfied: intel-cmplr-lib-rt in /usr/local/lib/python3.11/dist-packages (from mkl_umath->numpy) (2024.2.0)\n",
      "Requirement already satisfied: intel-cmplr-lib-ur==2024.2.0 in /usr/local/lib/python3.11/dist-packages (from intel-openmp<2026,>=2024->mkl->numpy) (2024.2.0)\n",
      "Downloading dython-0.7.9-py3-none-any.whl (26 kB)\n",
      "Installing collected packages: dython\n",
      "Successfully installed dython-0.7.9\n"
     ]
    }
   ],
   "source": [
    "!pip install numpy pandas scipy matplotlib dython;"
   ]
  },
  {
   "cell_type": "code",
   "execution_count": null,
   "id": "26c8f666",
   "metadata": {},
   "outputs": [
    {
     "name": "stdout",
     "output_type": "stream",
     "text": [
      "📊 Jensen-Shannon Divergence\n",
      "==============================\n"
     ]
    },
    {
     "data": {
      "text/plain": [
       "AB.B.theta.g.F8       0.828745\n",
       "AB.B.theta.q.T6       0.828125\n",
       "AB.B.theta.f.F4       0.825246\n",
       "AB.F.gamma.s.O2       0.824023\n",
       "AB.B.theta.a.FP1      0.823993\n",
       "AB.F.gamma.m.T5       0.823687\n",
       "AB.E.highbeta.s.O2    0.822549\n",
       "AB.C.alpha.i.C3       0.821618\n",
       "AB.C.alpha.g.F8       0.818841\n",
       "AB.C.alpha.n.P3       0.815431\n",
       "Name: JSD, dtype: float64"
      ]
     },
     "metadata": {},
     "output_type": "display_data"
    },
    {
     "name": "stdout",
     "output_type": "stream",
     "text": [
      "\n",
      "→ Média da JSD: 0.3033\n",
      "→ Mediana da JSD: 0.2345\n"
     ]
    },
    {
     "data": {
      "image/png": "[encoded data removed]",
      "text/plain": [
       "<Figure size 640x480 with 1 Axes>"
      ]
     },
     "metadata": {},
     "output_type": "display_data"
    }
   ],
   "source": [
    "import numpy as np\n",
    "import pandas as pd\n",
    "from scipy.spatial import distance\n",
    "from scipy.stats import ks_2samp\n",
    "from scipy.special import rel_entr\n",
    "import matplotlib.pyplot as plt\n",
    "from dython.nominal import associations\n",
    "from numpy.linalg import norm\n",
    "\n",
    "ab_psd = df.filter(regex='^AB')\n",
    "coh_fc = df.filter(regex='^COH')\n",
    "\n",
    "ab_psd_synthetic = df_synthetic_spec.filter(regex='^AB')\n",
    "coh_fc_synthetic = df_synthetic_spec.filter(regex='^COH')\n",
    "\n",
    "psd_fc_real = pd.concat([ab_psd, coh_fc], axis=1)\n",
    "psd_fc_synthetic = pd.concat([ab_psd_synthetic, coh_fc_synthetic], axis=1)\n",
    "\n",
    "\n",
    "class SyntheticDataEvaluator:\n",
    "    def __init__(self, real_df, synth_df):\n",
    "        self.real_df = real_df.copy()\n",
    "        self.synth_df = synth_df.copy()\n",
    "\n",
    "    def _get_common_columns(self):\n",
    "        return list(set(self.real_df.columns) & set(self.synth_df.columns))\n",
    "\n",
    "    def kolmogorov_smirnov_test(self):\n",
    "        common_cols = self._get_common_columns()\n",
    "        ks_results = {}\n",
    "        for col in common_cols:\n",
    "            try:\n",
    "                stat, p_value = ks_2samp(self.real_df[col], self.synth_df[col])\n",
    "                ks_results[col] = {\"statistic\": stat, \"p-value\": p_value}\n",
    "            except:\n",
    "                continue\n",
    "        return pd.DataFrame(ks_results).T\n",
    "\n",
    "    def jensen_shannon_divergence(self, bins=50):\n",
    "        jsd_results = {}\n",
    "        for col in self._get_common_columns():\n",
    "            try:\n",
    "                p, _ = np.histogram(self.real_df[col], bins=bins, density=True)\n",
    "                q, _ = np.histogram(self.synth_df[col], bins=bins, density=True)\n",
    "                jsd = distance.jensenshannon(p + 1e-8, q + 1e-8)\n",
    "                jsd_results[col] = jsd\n",
    "            except:\n",
    "                continue\n",
    "        return pd.Series(jsd_results, name=\"JSD\")\n",
    "\n",
    "    def kl_divergence(self):\n",
    "        kl_results = {}\n",
    "        for col in self._get_common_columns():\n",
    "            try:\n",
    "                p = self.real_df[col].value_counts(normalize=True).sort_index()\n",
    "                q = self.synth_df[col].value_counts(normalize=True).sort_index()\n",
    "                p, q = p.align(q, fill_value=1e-8)\n",
    "                kl = sum(rel_entr(p, q))\n",
    "                kl_results[col] = kl\n",
    "            except:\n",
    "                continue\n",
    "        return pd.Series(kl_results, name=\"KL Divergence\")\n",
    "\n",
    "    def pairwise_correlation_difference(self):\n",
    "        common_cols = self._get_common_columns()\n",
    "        real_corr = self.real_df[common_cols].corr()\n",
    "        synth_corr = self.synth_df[common_cols].corr()\n",
    "        diff = real_corr - synth_corr\n",
    "        pcd = norm(diff.values)\n",
    "        return pcd, diff\n",
    "\n",
    "    def plot_distributions(self, column):\n",
    "        plt.hist(self.real_df[column], bins=30, alpha=0.5, label='Real', density=True)\n",
    "        plt.hist(self.synth_df[column], bins=30, alpha=0.5, label='Synthetic', density=True)\n",
    "        plt.title(f'Distribution: {column}')\n",
    "        plt.legend()\n",
    "        plt.show()\n",
    "\n",
    "evaluator = SyntheticDataEvaluator(psd_fc_real, psd_fc_synthetic)"
   ]
  }
 ],
 "metadata": {
  "kernelspec": {
   "display_name": "Python 3 (ipykernel)",
   "language": "python",
   "name": "python3"
  },
  "language_info": {
   "codemirror_mode": {
    "name": "ipython",
    "version": 3
   },
   "file_extension": ".py",
   "mimetype": "text/x-python",
   "name": "python",
   "nbconvert_exporter": "python",
   "pygments_lexer": "ipython3",
   "version": "3.11.11"
  }
 },
 "nbformat": 4,
 "nbformat_minor": 5
}
