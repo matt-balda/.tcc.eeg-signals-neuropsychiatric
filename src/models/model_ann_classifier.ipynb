{
 "cells": [
  {
   "cell_type": "markdown",
   "metadata": {},
   "source": [
    "<a href=\"https://www.kaggle.com/code/mateusbaldamota/eeg-psychiatric-disorders-using-ann?scriptVersionId=208869244\" target=\"_blank\"><img align=\"left\" alt=\"Kaggle\" title=\"Open in Kaggle\" src=\"https://kaggle.com/static/images/open-in-kaggle.svg\"></a>"
   ]
  },
  {
   "cell_type": "markdown",
   "id": "dafebbba",
   "metadata": {
    "papermill": {
     "duration": 0.016914,
     "end_time": "2024-11-21T17:46:06.905102",
     "exception": false,
     "start_time": "2024-11-21T17:46:06.888188",
     "status": "completed"
    },
    "tags": []
   },
   "source": [
    "## Description\n",
    "\n",
    "Author of notebook: Mateus Balda\n",
    "\n",
    "Paper: https://www.frontiersin.org/journals/psychiatry/articles/10.3389/fpsyt.2021.707581/full"
   ]
  },
  {
   "cell_type": "markdown",
   "id": "48cab304",
   "metadata": {
    "papermill": {
     "duration": 0.014176,
     "end_time": "2024-11-21T17:46:06.933804",
     "exception": false,
     "start_time": "2024-11-21T17:46:06.919628",
     "status": "completed"
    },
    "tags": []
   },
   "source": [
    "## Import from libraries"
   ]
  },
  {
   "cell_type": "code",
   "execution_count": 6,
   "id": "2bc1c36d",
   "metadata": {
    "execution": {
     "iopub.execute_input": "2024-11-21T17:46:06.964Z",
     "iopub.status.busy": "2024-11-21T17:46:06.963486Z",
     "iopub.status.idle": "2024-11-21T17:46:30.784377Z",
     "shell.execute_reply": "2024-11-21T17:46:30.782996Z"
    },
    "papermill": {
     "duration": 23.839201,
     "end_time": "2024-11-21T17:46:30.78706",
     "exception": false,
     "start_time": "2024-11-21T17:46:06.947859",
     "status": "completed"
    },
    "tags": []
   },
   "outputs": [
    {
     "ename": "",
     "evalue": "",
     "output_type": "error",
     "traceback": [
      "\u001b[1;31mFalha ao se conectar ao Servidor Jupyter remoto \"https://kkb-production.jupyter-proxy.kaggle.net/k/239174840/eyJhbGciOiJkaXIiLCJlbmMiOiJBMTI4Q0JDLUhTMjU2IiwidHlwIjoiSldUIn0..ABD0eMz1p94yKj41Nc-4Lw.L1iltmL_6q1ODpQ48rb0FR0fSNvYnOCkp1r5GYMZN4NgSD16Ytrymv1-Z7a978_eIEMeaiJoA9PVhOuJ9fr4y6hX8BXQLAeZ3jFIUJGJvkP2FRSs5sDdxKjHobAmgmFmdOJiMDDXxKG4ZArbKchVIjzipU5YKQKkYqy2VhzW92CB-XJd5ZXcx5uCAIBObY5slUj4BH2qG2kiF1pUOfi49qKgqE1O39za2NfBLLBLQo0.KdDHaCCClzLw0NdZV9gFKw/proxy\". Verifique se o servidor está em execução e acessível."
     ]
    }
   ],
   "source": [
    "!pip install -q torchsummary;\n",
    "!pip install -q torchviz;\n",
    "\n",
    "# ra"
   ]
  },
  {
   "cell_type": "code",
   "execution_count": 3,
   "id": "b153e8b7",
   "metadata": {
    "execution": {
     "iopub.execute_input": "2024-11-21T17:46:30.818307Z",
     "iopub.status.busy": "2024-11-21T17:46:30.817377Z",
     "iopub.status.idle": "2024-11-21T17:46:37.4902Z",
     "shell.execute_reply": "2024-11-21T17:46:37.489139Z"
    },
    "papermill": {
     "duration": 6.691258,
     "end_time": "2024-11-21T17:46:37.492706",
     "exception": false,
     "start_time": "2024-11-21T17:46:30.801448",
     "status": "completed"
    },
    "tags": []
   },
   "outputs": [
    {
     "data": {
      "text/plain": [
       "'2.4.0+cpu'"
      ]
     },
     "execution_count": 3,
     "metadata": {},
     "output_type": "execute_result"
    }
   ],
   "source": [
    "import matplotlib.pyplot as plt\n",
    "import seaborn as sns\n",
    "import pandas as pd\n",
    "import numpy as np\n",
    "import csv\n",
    "import os\n",
    "\n",
    "from xgboost import XGBClassifier\n",
    "from IPython.display import FileLink\n",
    "from sklearn.preprocessing import OrdinalEncoder, StandardScaler, RobustScaler, LabelEncoder\n",
    "from sklearn.model_selection import train_test_split, GridSearchCV\n",
    "from sklearn.feature_selection import SelectFromModel\n",
    "from sklearn.decomposition import PCA\n",
    "from sklearn.metrics import classification_report, accuracy_score\n",
    "from sklearn.metrics import roc_curve,roc_auc_score\n",
    "from sklearn.metrics import confusion_matrix\n",
    "from sklearn.impute import KNNImputer\n",
    "\n",
    "import torch\n",
    "import torch.nn as nn\n",
    "import torch.nn.init as init\n",
    "import torch.optim as optim\n",
    "import torch.nn.functional as F\n",
    "from torch.utils.data import Dataset, DataLoader, random_split\n",
    "from torch.optim.lr_scheduler import ReduceLROnPlateau\n",
    "from torchsummary import summary\n",
    "from torchviz import make_dot\n",
    "\n",
    "from imblearn.over_sampling import SMOTE\n",
    "from imblearn.over_sampling import BorderlineSMOTE\n",
    "from imblearn.over_sampling import ADASYN\n",
    "\n",
    "from warnings import filterwarnings\n",
    "filterwarnings('ignore')\n",
    "\n",
    "torch.__version__"
   ]
  },
  {
   "cell_type": "code",
   "execution_count": 4,
   "id": "9cb21f74",
   "metadata": {
    "execution": {
     "iopub.execute_input": "2024-11-21T17:46:37.52446Z",
     "iopub.status.busy": "2024-11-21T17:46:37.523091Z",
     "iopub.status.idle": "2024-11-21T17:46:37.530861Z",
     "shell.execute_reply": "2024-11-21T17:46:37.529907Z"
    },
    "papermill": {
     "duration": 0.025645,
     "end_time": "2024-11-21T17:46:37.533053",
     "exception": false,
     "start_time": "2024-11-21T17:46:37.507408",
     "status": "completed"
    },
    "tags": []
   },
   "outputs": [
    {
     "data": {
      "text/plain": [
       "device(type='cpu')"
      ]
     },
     "execution_count": 4,
     "metadata": {},
     "output_type": "execute_result"
    }
   ],
   "source": [
    "device = torch.device(\"cuda\" if torch.cuda.is_available() else \"cpu\")\n",
    "device"
   ]
  },
  {
   "cell_type": "code",
   "execution_count": 4,
   "id": "8e255a82",
   "metadata": {
    "execution": {
     "iopub.execute_input": "2024-11-21T17:46:37.563878Z",
     "iopub.status.busy": "2024-11-21T17:46:37.56296Z",
     "iopub.status.idle": "2024-11-21T17:46:37.573653Z",
     "shell.execute_reply": "2024-11-21T17:46:37.572486Z"
    },
    "papermill": {
     "duration": 0.028306,
     "end_time": "2024-11-21T17:46:37.575884",
     "exception": false,
     "start_time": "2024-11-21T17:46:37.547578",
     "status": "completed"
    },
    "tags": []
   },
   "outputs": [
    {
     "data": {
      "text/plain": [
       "<torch._C.Generator at 0x7cd92cdeda10>"
      ]
     },
     "execution_count": 4,
     "metadata": {},
     "output_type": "execute_result"
    }
   ],
   "source": [
    "np.random.seed(123)\n",
    "torch.manual_seed(123)"
   ]
  },
  {
   "cell_type": "markdown",
   "id": "1fa9ca46",
   "metadata": {
    "papermill": {
     "duration": 0.013958,
     "end_time": "2024-11-21T17:46:37.604828",
     "exception": false,
     "start_time": "2024-11-21T17:46:37.59087",
     "status": "completed"
    },
    "tags": []
   },
   "source": [
    "## Load dataset"
   ]
  },
  {
   "cell_type": "code",
   "execution_count": 5,
   "id": "7818aa75",
   "metadata": {
    "execution": {
     "iopub.execute_input": "2024-11-21T17:46:37.635219Z",
     "iopub.status.busy": "2024-11-21T17:46:37.634822Z",
     "iopub.status.idle": "2024-11-21T17:46:38.037078Z",
     "shell.execute_reply": "2024-11-21T17:46:38.036004Z"
    },
    "papermill": {
     "duration": 0.419845,
     "end_time": "2024-11-21T17:46:38.039168",
     "exception": false,
     "start_time": "2024-11-21T17:46:37.619323",
     "status": "completed"
    },
    "tags": []
   },
   "outputs": [
    {
     "data": {
      "text/plain": [
       "((945, 1140), (945, 3), (945,))"
      ]
     },
     "execution_count": 5,
     "metadata": {},
     "output_type": "execute_result"
    }
   ],
   "source": [
    "df = pd.read_csv('../input/eeg-psychiatric-disorders-dataset/EEG.machinelearing_data_BRMH.csv')\n",
    "\n",
    "column = 'Unnamed: 122' # column 122 is nan\n",
    "df = df.drop(columns=[column])\n",
    "\n",
    "# only PSD and FC\n",
    "X_1 = df.iloc[:,8:]\n",
    "y = df['main.disorder']\n",
    "\n",
    "# quantitative variables\n",
    "X_2 = df.loc[:, ['age', 'education', 'IQ']]\n",
    "\n",
    "X_1.shape, X_2.shape, y.shape"
   ]
  },
  {
   "cell_type": "code",
   "execution_count": 6,
   "id": "a077175b",
   "metadata": {
    "execution": {
     "iopub.execute_input": "2024-11-21T17:46:38.070259Z",
     "iopub.status.busy": "2024-11-21T17:46:38.069294Z",
     "iopub.status.idle": "2024-11-21T17:46:38.078022Z",
     "shell.execute_reply": "2024-11-21T17:46:38.076949Z"
    },
    "papermill": {
     "duration": 0.026654,
     "end_time": "2024-11-21T17:46:38.080292",
     "exception": false,
     "start_time": "2024-11-21T17:46:38.053638",
     "status": "completed"
    },
    "tags": []
   },
   "outputs": [],
   "source": [
    "def detect_outliers_summary(df):\n",
    "    outliers_summary = {}\n",
    "\n",
    "    for col in df.select_dtypes(include=['float64', 'int64']).columns:\n",
    "        Q1 = df[col].quantile(0.25)\n",
    "        Q3 = df[col].quantile(0.75)\n",
    "        IQR = Q3 - Q1\n",
    "        lower_limit = Q1 - 1.5 * IQR\n",
    "        upper_limit = Q3 + 1.5 * IQR\n",
    "\n",
    "        outliers = df[(df[col] < lower_limit) | (df[col] > upper_limit)][col]\n",
    "        \n",
    "        outliers_summary[col] = {\n",
    "            'num_outliers': len(outliers),\n",
    "            'percent_outliers': len(outliers) / len(df) * 100,\n",
    "            'outliers': outliers.tolist(),\n",
    "            'lower_limit': lower_limit,\n",
    "            'upper_limit': upper_limit\n",
    "        }\n",
    "\n",
    "    return pd.DataFrame(outliers_summary).T\n",
    "\n",
    "\n",
    "def treat_outliers_iqr(df, column, factor=1.5):\n",
    "    Q1 = np.percentile(df[column], 25)\n",
    "    Q3 = np.percentile(df[column], 75)\n",
    "    IQR = Q3 - Q1\n",
    "    \n",
    "    lower_bound = Q1 - factor * IQR\n",
    "    upper_bound = Q3 + factor * IQR\n",
    "    \n",
    "    outliers = df[(df[column] < lower_bound) | (df[column] > upper_bound)]\n",
    "    \n",
    "    df[column] = np.clip(df[column], lower_bound, upper_bound)\n",
    "        \n",
    "    return _, outliers"
   ]
  },
  {
   "cell_type": "code",
   "execution_count": 7,
   "id": "f297557c",
   "metadata": {
    "execution": {
     "iopub.execute_input": "2024-11-21T17:46:38.11109Z",
     "iopub.status.busy": "2024-11-21T17:46:38.110674Z",
     "iopub.status.idle": "2024-11-21T17:46:40.260649Z",
     "shell.execute_reply": "2024-11-21T17:46:40.259574Z"
    },
    "papermill": {
     "duration": 2.168088,
     "end_time": "2024-11-21T17:46:40.262857",
     "exception": false,
     "start_time": "2024-11-21T17:46:38.094769",
     "status": "completed"
    },
    "tags": []
   },
   "outputs": [
    {
     "data": {
      "text/plain": [
       "26389"
      ]
     },
     "execution_count": 7,
     "metadata": {},
     "output_type": "execute_result"
    }
   ],
   "source": [
    "outliers_summary = detect_outliers_summary(X_1)\n",
    "outliers_summary['num_outliers'].sum()"
   ]
  },
  {
   "cell_type": "code",
   "execution_count": 8,
   "id": "79c47712",
   "metadata": {
    "execution": {
     "iopub.execute_input": "2024-11-21T17:46:40.293455Z",
     "iopub.status.busy": "2024-11-21T17:46:40.293034Z",
     "iopub.status.idle": "2024-11-21T17:46:40.297611Z",
     "shell.execute_reply": "2024-11-21T17:46:40.296499Z"
    },
    "papermill": {
     "duration": 0.022236,
     "end_time": "2024-11-21T17:46:40.299646",
     "exception": false,
     "start_time": "2024-11-21T17:46:40.27741",
     "status": "completed"
    },
    "tags": []
   },
   "outputs": [],
   "source": [
    "# for col in X_1.columns.tolist():\n",
    "#     treat_outliers_iqr(X_1, col, factor=1.5)"
   ]
  },
  {
   "cell_type": "markdown",
   "id": "0ac7e363",
   "metadata": {
    "papermill": {
     "duration": 0.014227,
     "end_time": "2024-11-21T17:46:40.328716",
     "exception": false,
     "start_time": "2024-11-21T17:46:40.314489",
     "status": "completed"
    },
    "tags": []
   },
   "source": [
    "### Checking/imputing Nan"
   ]
  },
  {
   "cell_type": "code",
   "execution_count": 9,
   "id": "eb9a43e4",
   "metadata": {
    "execution": {
     "iopub.execute_input": "2024-11-21T17:46:40.360146Z",
     "iopub.status.busy": "2024-11-21T17:46:40.359138Z",
     "iopub.status.idle": "2024-11-21T17:46:40.364604Z",
     "shell.execute_reply": "2024-11-21T17:46:40.363617Z"
    },
    "papermill": {
     "duration": 0.02336,
     "end_time": "2024-11-21T17:46:40.366666",
     "exception": false,
     "start_time": "2024-11-21T17:46:40.343306",
     "status": "completed"
    },
    "tags": []
   },
   "outputs": [],
   "source": [
    "def analyze_missing_values(dataframe):\n",
    "    number_of_na_by_column = dataframe.isnull().sum().loc[lambda x: x > 0]\n",
    "    \n",
    "    number_of_na_rows = dataframe.isnull().any(axis=1).sum()\n",
    "    \n",
    "    # display(number_of_na_by_column)\n",
    "    \n",
    "    return number_of_na_by_column, number_of_na_rows"
   ]
  },
  {
   "cell_type": "code",
   "execution_count": 10,
   "id": "68ab4dd4",
   "metadata": {
    "execution": {
     "iopub.execute_input": "2024-11-21T17:46:40.398078Z",
     "iopub.status.busy": "2024-11-21T17:46:40.396884Z",
     "iopub.status.idle": "2024-11-21T17:46:40.409148Z",
     "shell.execute_reply": "2024-11-21T17:46:40.408082Z"
    },
    "papermill": {
     "duration": 0.029882,
     "end_time": "2024-11-21T17:46:40.411159",
     "exception": false,
     "start_time": "2024-11-21T17:46:40.381277",
     "status": "completed"
    },
    "tags": []
   },
   "outputs": [
    {
     "data": {
      "text/plain": [
       "(Series([], dtype: int64), 0)"
      ]
     },
     "execution_count": 10,
     "metadata": {},
     "output_type": "execute_result"
    }
   ],
   "source": [
    "# X_1\n",
    "\n",
    "analyze_missing_values(X_1)"
   ]
  },
  {
   "cell_type": "code",
   "execution_count": 11,
   "id": "dde511a0",
   "metadata": {
    "execution": {
     "iopub.execute_input": "2024-11-21T17:46:40.444177Z",
     "iopub.status.busy": "2024-11-21T17:46:40.44332Z",
     "iopub.status.idle": "2024-11-21T17:46:40.45229Z",
     "shell.execute_reply": "2024-11-21T17:46:40.45116Z"
    },
    "papermill": {
     "duration": 0.027282,
     "end_time": "2024-11-21T17:46:40.454661",
     "exception": false,
     "start_time": "2024-11-21T17:46:40.427379",
     "status": "completed"
    },
    "tags": []
   },
   "outputs": [
    {
     "data": {
      "text/plain": [
       "(education    15\n",
       " IQ           13\n",
       " dtype: int64,\n",
       " 26)"
      ]
     },
     "execution_count": 11,
     "metadata": {},
     "output_type": "execute_result"
    }
   ],
   "source": [
    "# X_2\n",
    "\n",
    "analyze_missing_values(X_2)"
   ]
  },
  {
   "cell_type": "code",
   "execution_count": 12,
   "id": "f873c1ba",
   "metadata": {
    "execution": {
     "iopub.execute_input": "2024-11-21T17:46:40.485879Z",
     "iopub.status.busy": "2024-11-21T17:46:40.485504Z",
     "iopub.status.idle": "2024-11-21T17:46:40.50436Z",
     "shell.execute_reply": "2024-11-21T17:46:40.503302Z"
    },
    "papermill": {
     "duration": 0.037338,
     "end_time": "2024-11-21T17:46:40.506876",
     "exception": false,
     "start_time": "2024-11-21T17:46:40.469538",
     "status": "completed"
    },
    "tags": []
   },
   "outputs": [],
   "source": [
    "knn_imputer = KNNImputer(n_neighbors=5, weights='uniform', metric='nan_euclidean')\n",
    "\n",
    "df_imput = pd.DataFrame(knn_imputer.fit_transform(X_2[['education', 'IQ']]), columns=['education', 'IQ'])\n",
    "\n",
    "X_2[['education', 'IQ']] = df_imput[['education', 'IQ']]"
   ]
  },
  {
   "cell_type": "code",
   "execution_count": 13,
   "id": "a50000c9",
   "metadata": {
    "execution": {
     "iopub.execute_input": "2024-11-21T17:46:40.538297Z",
     "iopub.status.busy": "2024-11-21T17:46:40.537891Z",
     "iopub.status.idle": "2024-11-21T17:46:40.546914Z",
     "shell.execute_reply": "2024-11-21T17:46:40.545838Z"
    },
    "papermill": {
     "duration": 0.027029,
     "end_time": "2024-11-21T17:46:40.549009",
     "exception": false,
     "start_time": "2024-11-21T17:46:40.52198",
     "status": "completed"
    },
    "tags": []
   },
   "outputs": [
    {
     "data": {
      "text/plain": [
       "(Series([], dtype: int64), 0)"
      ]
     },
     "execution_count": 13,
     "metadata": {},
     "output_type": "execute_result"
    }
   ],
   "source": [
    "analyze_missing_values(X_2)"
   ]
  },
  {
   "cell_type": "markdown",
   "id": "729fbee7",
   "metadata": {
    "papermill": {
     "duration": 0.014567,
     "end_time": "2024-11-21T17:46:40.579016",
     "exception": false,
     "start_time": "2024-11-21T17:46:40.564449",
     "status": "completed"
    },
    "tags": []
   },
   "source": [
    "### Target `y` variable classes\n",
    "\n",
    "`y` = main.disorder"
   ]
  },
  {
   "cell_type": "code",
   "execution_count": 14,
   "id": "175380d7",
   "metadata": {
    "execution": {
     "iopub.execute_input": "2024-11-21T17:46:40.611551Z",
     "iopub.status.busy": "2024-11-21T17:46:40.61113Z",
     "iopub.status.idle": "2024-11-21T17:46:40.618871Z",
     "shell.execute_reply": "2024-11-21T17:46:40.617773Z"
    },
    "papermill": {
     "duration": 0.027286,
     "end_time": "2024-11-21T17:46:40.621269",
     "exception": false,
     "start_time": "2024-11-21T17:46:40.593983",
     "status": "completed"
    },
    "tags": []
   },
   "outputs": [
    {
     "data": {
      "text/plain": [
       "['Addictive disorder',\n",
       " 'Anxiety disorder',\n",
       " 'Healthy control',\n",
       " 'Mood disorder',\n",
       " 'Obsessive compulsive disorder',\n",
       " 'Schizophrenia',\n",
       " 'Trauma and stress related disorder']"
      ]
     },
     "execution_count": 14,
     "metadata": {},
     "output_type": "execute_result"
    }
   ],
   "source": [
    "column_names = np.unique(y).tolist()\n",
    "column_names"
   ]
  },
  {
   "cell_type": "code",
   "execution_count": 15,
   "id": "14e3bafb",
   "metadata": {
    "execution": {
     "iopub.execute_input": "2024-11-21T17:46:40.653035Z",
     "iopub.status.busy": "2024-11-21T17:46:40.652629Z",
     "iopub.status.idle": "2024-11-21T17:46:40.66687Z",
     "shell.execute_reply": "2024-11-21T17:46:40.665766Z"
    },
    "papermill": {
     "duration": 0.033062,
     "end_time": "2024-11-21T17:46:40.669267",
     "exception": false,
     "start_time": "2024-11-21T17:46:40.636205",
     "status": "completed"
    },
    "tags": []
   },
   "outputs": [
    {
     "data": {
      "text/html": [
       "<div>\n",
       "<style scoped>\n",
       "    .dataframe tbody tr th:only-of-type {\n",
       "        vertical-align: middle;\n",
       "    }\n",
       "\n",
       "    .dataframe tbody tr th {\n",
       "        vertical-align: top;\n",
       "    }\n",
       "\n",
       "    .dataframe thead th {\n",
       "        text-align: right;\n",
       "    }\n",
       "</style>\n",
       "<table border=\"1\" class=\"dataframe\">\n",
       "  <thead>\n",
       "    <tr style=\"text-align: right;\">\n",
       "      <th></th>\n",
       "      <th>0</th>\n",
       "    </tr>\n",
       "  </thead>\n",
       "  <tbody>\n",
       "    <tr>\n",
       "      <th>0</th>\n",
       "      <td>Addictive disorder</td>\n",
       "    </tr>\n",
       "    <tr>\n",
       "      <th>1</th>\n",
       "      <td>Anxiety disorder</td>\n",
       "    </tr>\n",
       "    <tr>\n",
       "      <th>2</th>\n",
       "      <td>Healthy control</td>\n",
       "    </tr>\n",
       "    <tr>\n",
       "      <th>3</th>\n",
       "      <td>Mood disorder</td>\n",
       "    </tr>\n",
       "    <tr>\n",
       "      <th>4</th>\n",
       "      <td>Obsessive compulsive disorder</td>\n",
       "    </tr>\n",
       "    <tr>\n",
       "      <th>5</th>\n",
       "      <td>Schizophrenia</td>\n",
       "    </tr>\n",
       "    <tr>\n",
       "      <th>6</th>\n",
       "      <td>Trauma and stress related disorder</td>\n",
       "    </tr>\n",
       "  </tbody>\n",
       "</table>\n",
       "</div>"
      ],
      "text/plain": [
       "                                    0\n",
       "0                  Addictive disorder\n",
       "1                    Anxiety disorder\n",
       "2                     Healthy control\n",
       "3                       Mood disorder\n",
       "4       Obsessive compulsive disorder\n",
       "5                       Schizophrenia\n",
       "6  Trauma and stress related disorder"
      ]
     },
     "execution_count": 15,
     "metadata": {},
     "output_type": "execute_result"
    }
   ],
   "source": [
    "pd.DataFrame(np.unique(y))"
   ]
  },
  {
   "cell_type": "markdown",
   "id": "807c4061",
   "metadata": {
    "papermill": {
     "duration": 0.015181,
     "end_time": "2024-11-21T17:46:40.699769",
     "exception": false,
     "start_time": "2024-11-21T17:46:40.684588",
     "status": "completed"
    },
    "tags": []
   },
   "source": [
    "### Class encoder"
   ]
  },
  {
   "cell_type": "code",
   "execution_count": 16,
   "id": "43e01515",
   "metadata": {
    "execution": {
     "iopub.execute_input": "2024-11-21T17:46:40.731708Z",
     "iopub.status.busy": "2024-11-21T17:46:40.731283Z",
     "iopub.status.idle": "2024-11-21T17:46:40.737103Z",
     "shell.execute_reply": "2024-11-21T17:46:40.736045Z"
    },
    "papermill": {
     "duration": 0.024348,
     "end_time": "2024-11-21T17:46:40.739265",
     "exception": false,
     "start_time": "2024-11-21T17:46:40.714917",
     "status": "completed"
    },
    "tags": []
   },
   "outputs": [],
   "source": [
    "le = LabelEncoder()\n",
    "y_encoded = le.fit_transform(y)\n",
    "y_encoded = y_encoded.astype(np.float32)"
   ]
  },
  {
   "cell_type": "code",
   "execution_count": 17,
   "id": "c407aea6",
   "metadata": {
    "execution": {
     "iopub.execute_input": "2024-11-21T17:46:40.77116Z",
     "iopub.status.busy": "2024-11-21T17:46:40.77072Z",
     "iopub.status.idle": "2024-11-21T17:46:40.783521Z",
     "shell.execute_reply": "2024-11-21T17:46:40.782345Z"
    },
    "papermill": {
     "duration": 0.031319,
     "end_time": "2024-11-21T17:46:40.785706",
     "exception": false,
     "start_time": "2024-11-21T17:46:40.754387",
     "status": "completed"
    },
    "tags": []
   },
   "outputs": [
    {
     "data": {
      "text/plain": [
       "0  \n",
       "3.0    266\n",
       "0.0    186\n",
       "6.0    128\n",
       "5.0    117\n",
       "1.0    107\n",
       "2.0     95\n",
       "4.0     46\n",
       "Name: count, dtype: int64"
      ]
     },
     "execution_count": 17,
     "metadata": {},
     "output_type": "execute_result"
    }
   ],
   "source": [
    "pd.DataFrame(y_encoded).value_counts()"
   ]
  },
  {
   "cell_type": "markdown",
   "id": "b2fa0474",
   "metadata": {
    "papermill": {
     "duration": 0.01506,
     "end_time": "2024-11-21T17:46:40.816616",
     "exception": false,
     "start_time": "2024-11-21T17:46:40.801556",
     "status": "completed"
    },
    "tags": []
   },
   "source": [
    "### Transf log"
   ]
  },
  {
   "cell_type": "code",
   "execution_count": 18,
   "id": "2432a0e0",
   "metadata": {
    "execution": {
     "iopub.execute_input": "2024-11-21T17:46:40.84861Z",
     "iopub.status.busy": "2024-11-21T17:46:40.848223Z",
     "iopub.status.idle": "2024-11-21T17:46:40.860979Z",
     "shell.execute_reply": "2024-11-21T17:46:40.859927Z"
    },
    "papermill": {
     "duration": 0.031225,
     "end_time": "2024-11-21T17:46:40.862955",
     "exception": false,
     "start_time": "2024-11-21T17:46:40.83173",
     "status": "completed"
    },
    "tags": []
   },
   "outputs": [
    {
     "data": {
      "text/html": [
       "<div>\n",
       "<style scoped>\n",
       "    .dataframe tbody tr th:only-of-type {\n",
       "        vertical-align: middle;\n",
       "    }\n",
       "\n",
       "    .dataframe tbody tr th {\n",
       "        vertical-align: top;\n",
       "    }\n",
       "\n",
       "    .dataframe thead th {\n",
       "        text-align: right;\n",
       "    }\n",
       "</style>\n",
       "<table border=\"1\" class=\"dataframe\">\n",
       "  <thead>\n",
       "    <tr style=\"text-align: right;\">\n",
       "      <th></th>\n",
       "      <th>age</th>\n",
       "      <th>education</th>\n",
       "      <th>IQ</th>\n",
       "    </tr>\n",
       "  </thead>\n",
       "  <tbody>\n",
       "    <tr>\n",
       "      <th>0</th>\n",
       "      <td>4.060443</td>\n",
       "      <td>2.669913</td>\n",
       "      <td>4.630648</td>\n",
       "    </tr>\n",
       "    <tr>\n",
       "      <th>1</th>\n",
       "      <td>3.637586</td>\n",
       "      <td>1.945910</td>\n",
       "      <td>4.795791</td>\n",
       "    </tr>\n",
       "    <tr>\n",
       "      <th>2</th>\n",
       "      <td>3.496508</td>\n",
       "      <td>2.833213</td>\n",
       "      <td>4.736198</td>\n",
       "    </tr>\n",
       "    <tr>\n",
       "      <th>3</th>\n",
       "      <td>3.583519</td>\n",
       "      <td>2.944439</td>\n",
       "      <td>4.844187</td>\n",
       "    </tr>\n",
       "    <tr>\n",
       "      <th>4</th>\n",
       "      <td>3.610918</td>\n",
       "      <td>2.833213</td>\n",
       "      <td>4.727388</td>\n",
       "    </tr>\n",
       "    <tr>\n",
       "      <th>...</th>\n",
       "      <td>...</td>\n",
       "      <td>...</td>\n",
       "      <td>...</td>\n",
       "    </tr>\n",
       "    <tr>\n",
       "      <th>940</th>\n",
       "      <td>3.135494</td>\n",
       "      <td>2.639057</td>\n",
       "      <td>4.762174</td>\n",
       "    </tr>\n",
       "    <tr>\n",
       "      <th>941</th>\n",
       "      <td>3.295837</td>\n",
       "      <td>2.639057</td>\n",
       "      <td>4.779123</td>\n",
       "    </tr>\n",
       "    <tr>\n",
       "      <th>942</th>\n",
       "      <td>3.295837</td>\n",
       "      <td>2.833213</td>\n",
       "      <td>4.736198</td>\n",
       "    </tr>\n",
       "    <tr>\n",
       "      <th>943</th>\n",
       "      <td>3.218876</td>\n",
       "      <td>2.639057</td>\n",
       "      <td>4.682131</td>\n",
       "    </tr>\n",
       "    <tr>\n",
       "      <th>944</th>\n",
       "      <td>3.091042</td>\n",
       "      <td>2.639057</td>\n",
       "      <td>4.663439</td>\n",
       "    </tr>\n",
       "  </tbody>\n",
       "</table>\n",
       "<p>945 rows × 3 columns</p>\n",
       "</div>"
      ],
      "text/plain": [
       "          age  education        IQ\n",
       "0    4.060443   2.669913  4.630648\n",
       "1    3.637586   1.945910  4.795791\n",
       "2    3.496508   2.833213  4.736198\n",
       "3    3.583519   2.944439  4.844187\n",
       "4    3.610918   2.833213  4.727388\n",
       "..        ...        ...       ...\n",
       "940  3.135494   2.639057  4.762174\n",
       "941  3.295837   2.639057  4.779123\n",
       "942  3.295837   2.833213  4.736198\n",
       "943  3.218876   2.639057  4.682131\n",
       "944  3.091042   2.639057  4.663439\n",
       "\n",
       "[945 rows x 3 columns]"
      ]
     },
     "execution_count": 18,
     "metadata": {},
     "output_type": "execute_result"
    }
   ],
   "source": [
    "X_2 = np.log1p(X_2)\n",
    "X_2"
   ]
  },
  {
   "cell_type": "markdown",
   "id": "b72301f5",
   "metadata": {
    "papermill": {
     "duration": 0.014843,
     "end_time": "2024-11-21T17:46:40.893164",
     "exception": false,
     "start_time": "2024-11-21T17:46:40.878321",
     "status": "completed"
    },
    "tags": []
   },
   "source": [
    "## Feature importance/selection"
   ]
  },
  {
   "cell_type": "code",
   "execution_count": 19,
   "id": "67adeb45",
   "metadata": {
    "execution": {
     "iopub.execute_input": "2024-11-21T17:46:40.925815Z",
     "iopub.status.busy": "2024-11-21T17:46:40.924874Z",
     "iopub.status.idle": "2024-11-21T17:46:40.931128Z",
     "shell.execute_reply": "2024-11-21T17:46:40.930046Z"
    },
    "papermill": {
     "duration": 0.024754,
     "end_time": "2024-11-21T17:46:40.933254",
     "exception": false,
     "start_time": "2024-11-21T17:46:40.9085",
     "status": "completed"
    },
    "tags": []
   },
   "outputs": [],
   "source": [
    "def train_xgb_model(X, y, test_size=0.2, random_state=42, n_estimators=100, max_depth=6, learning_rate=0.1):\n",
    "\n",
    "    scaler = StandardScaler()\n",
    "    X_scaled = scaler.fit_transform(X)\n",
    "    \n",
    "    X_train, X_test, y_train, y_test = train_test_split(X_scaled, y, test_size=test_size, random_state=random_state)\n",
    "    \n",
    "    model = XGBClassifier(n_estimators=n_estimators, max_depth=max_depth, learning_rate=learning_rate)\n",
    "    \n",
    "    model.fit(X_train, y_train)\n",
    "    \n",
    "    return model, X_train, X_test, y_train, y_test"
   ]
  },
  {
   "cell_type": "code",
   "execution_count": 20,
   "id": "b06e26af",
   "metadata": {
    "execution": {
     "iopub.execute_input": "2024-11-21T17:46:40.965576Z",
     "iopub.status.busy": "2024-11-21T17:46:40.9652Z",
     "iopub.status.idle": "2024-11-21T17:46:40.969769Z",
     "shell.execute_reply": "2024-11-21T17:46:40.968614Z"
    },
    "papermill": {
     "duration": 0.023141,
     "end_time": "2024-11-21T17:46:40.971726",
     "exception": false,
     "start_time": "2024-11-21T17:46:40.948585",
     "status": "completed"
    },
    "tags": []
   },
   "outputs": [],
   "source": [
    "# model_xgb, X_train, X_test, y_train, y_test = train_xgb_model(X_1, y_encoded)"
   ]
  },
  {
   "cell_type": "code",
   "execution_count": 21,
   "id": "7470428d",
   "metadata": {
    "execution": {
     "iopub.execute_input": "2024-11-21T17:46:41.004847Z",
     "iopub.status.busy": "2024-11-21T17:46:41.004334Z",
     "iopub.status.idle": "2024-11-21T17:46:41.009051Z",
     "shell.execute_reply": "2024-11-21T17:46:41.008005Z"
    },
    "papermill": {
     "duration": 0.023898,
     "end_time": "2024-11-21T17:46:41.011177",
     "exception": false,
     "start_time": "2024-11-21T17:46:40.987279",
     "status": "completed"
    },
    "tags": []
   },
   "outputs": [],
   "source": [
    "# y_pred = model_xgb.predict(X_test)\n",
    "# accuracy = accuracy_score(y_test, y_pred)\n",
    "\n",
    "# print(f\"Accuracy: {accuracy:.4f}\")"
   ]
  },
  {
   "cell_type": "code",
   "execution_count": 22,
   "id": "93efc6b8",
   "metadata": {
    "execution": {
     "iopub.execute_input": "2024-11-21T17:46:41.04494Z",
     "iopub.status.busy": "2024-11-21T17:46:41.044489Z",
     "iopub.status.idle": "2024-11-21T17:46:41.049324Z",
     "shell.execute_reply": "2024-11-21T17:46:41.048098Z"
    },
    "papermill": {
     "duration": 0.024754,
     "end_time": "2024-11-21T17:46:41.051488",
     "exception": false,
     "start_time": "2024-11-21T17:46:41.026734",
     "status": "completed"
    },
    "tags": []
   },
   "outputs": [],
   "source": [
    "# importances = model_xgb.feature_importances_\n",
    "\n",
    "# indices = np.argsort(importances)[::-1]\n",
    "\n",
    "# selected_number = int((X_1.shape[1])/10)\n",
    "\n",
    "# top_features = indices[:selected_number]\n",
    "\n",
    "# top_features"
   ]
  },
  {
   "cell_type": "code",
   "execution_count": 23,
   "id": "52b4b01d",
   "metadata": {
    "execution": {
     "iopub.execute_input": "2024-11-21T17:46:41.084108Z",
     "iopub.status.busy": "2024-11-21T17:46:41.083737Z",
     "iopub.status.idle": "2024-11-21T17:46:41.088367Z",
     "shell.execute_reply": "2024-11-21T17:46:41.087307Z"
    },
    "papermill": {
     "duration": 0.02322,
     "end_time": "2024-11-21T17:46:41.090421",
     "exception": false,
     "start_time": "2024-11-21T17:46:41.067201",
     "status": "completed"
    },
    "tags": []
   },
   "outputs": [],
   "source": [
    "# X_1_top_features = X_1.iloc[:, top_features]\n",
    "# X_2_top_features = pd.concat([X_2, X_1_top_features], axis=1)\n",
    "\n",
    "# X_2_quanti = pd.concat([X_2, X_1], axis=1)"
   ]
  },
  {
   "cell_type": "code",
   "execution_count": 24,
   "id": "ab1505f3",
   "metadata": {
    "execution": {
     "iopub.execute_input": "2024-11-21T17:46:41.12351Z",
     "iopub.status.busy": "2024-11-21T17:46:41.122687Z",
     "iopub.status.idle": "2024-11-21T17:46:41.12719Z",
     "shell.execute_reply": "2024-11-21T17:46:41.126181Z"
    },
    "papermill": {
     "duration": 0.023249,
     "end_time": "2024-11-21T17:46:41.12916",
     "exception": false,
     "start_time": "2024-11-21T17:46:41.105911",
     "status": "completed"
    },
    "tags": []
   },
   "outputs": [],
   "source": [
    "# X_1"
   ]
  },
  {
   "cell_type": "code",
   "execution_count": 25,
   "id": "09e0cbbb",
   "metadata": {
    "execution": {
     "iopub.execute_input": "2024-11-21T17:46:41.161993Z",
     "iopub.status.busy": "2024-11-21T17:46:41.161016Z",
     "iopub.status.idle": "2024-11-21T17:46:41.16559Z",
     "shell.execute_reply": "2024-11-21T17:46:41.1646Z"
    },
    "papermill": {
     "duration": 0.023023,
     "end_time": "2024-11-21T17:46:41.167471",
     "exception": false,
     "start_time": "2024-11-21T17:46:41.144448",
     "status": "completed"
    },
    "tags": []
   },
   "outputs": [],
   "source": [
    "# X_2_quanti"
   ]
  },
  {
   "cell_type": "code",
   "execution_count": 26,
   "id": "75da13ea",
   "metadata": {
    "execution": {
     "iopub.execute_input": "2024-11-21T17:46:41.199776Z",
     "iopub.status.busy": "2024-11-21T17:46:41.199407Z",
     "iopub.status.idle": "2024-11-21T17:46:41.203743Z",
     "shell.execute_reply": "2024-11-21T17:46:41.20273Z"
    },
    "papermill": {
     "duration": 0.022981,
     "end_time": "2024-11-21T17:46:41.205972",
     "exception": false,
     "start_time": "2024-11-21T17:46:41.182991",
     "status": "completed"
    },
    "tags": []
   },
   "outputs": [],
   "source": [
    "# X_1_top_features"
   ]
  },
  {
   "cell_type": "code",
   "execution_count": 27,
   "id": "eb571dfe",
   "metadata": {
    "execution": {
     "iopub.execute_input": "2024-11-21T17:46:41.23821Z",
     "iopub.status.busy": "2024-11-21T17:46:41.237816Z",
     "iopub.status.idle": "2024-11-21T17:46:41.242621Z",
     "shell.execute_reply": "2024-11-21T17:46:41.241555Z"
    },
    "papermill": {
     "duration": 0.023177,
     "end_time": "2024-11-21T17:46:41.244494",
     "exception": false,
     "start_time": "2024-11-21T17:46:41.221317",
     "status": "completed"
    },
    "tags": []
   },
   "outputs": [],
   "source": [
    "# X_2_top_features"
   ]
  },
  {
   "cell_type": "markdown",
   "id": "daa57998",
   "metadata": {
    "papermill": {
     "duration": 0.014968,
     "end_time": "2024-11-21T17:46:41.274976",
     "exception": false,
     "start_time": "2024-11-21T17:46:41.260008",
     "status": "completed"
    },
    "tags": []
   },
   "source": [
    "## Balance classes"
   ]
  },
  {
   "cell_type": "code",
   "execution_count": 28,
   "id": "a5cb6613",
   "metadata": {
    "execution": {
     "iopub.execute_input": "2024-11-21T17:46:41.307502Z",
     "iopub.status.busy": "2024-11-21T17:46:41.307139Z",
     "iopub.status.idle": "2024-11-21T17:46:41.314395Z",
     "shell.execute_reply": "2024-11-21T17:46:41.313536Z"
    },
    "papermill": {
     "duration": 0.026189,
     "end_time": "2024-11-21T17:46:41.316586",
     "exception": false,
     "start_time": "2024-11-21T17:46:41.290397",
     "status": "completed"
    },
    "tags": []
   },
   "outputs": [],
   "source": [
    "X_2_quanti = pd.concat([X_2, X_1], axis=1)"
   ]
  },
  {
   "cell_type": "code",
   "execution_count": 29,
   "id": "0c52f638",
   "metadata": {
    "execution": {
     "iopub.execute_input": "2024-11-21T17:46:41.348983Z",
     "iopub.status.busy": "2024-11-21T17:46:41.348215Z",
     "iopub.status.idle": "2024-11-21T17:46:41.956054Z",
     "shell.execute_reply": "2024-11-21T17:46:41.954855Z"
    },
    "papermill": {
     "duration": 0.626688,
     "end_time": "2024-11-21T17:46:41.958625",
     "exception": false,
     "start_time": "2024-11-21T17:46:41.331937",
     "status": "completed"
    },
    "tags": []
   },
   "outputs": [],
   "source": [
    "# smote = SMOTE(sampling_strategy='auto', random_state=42)\n",
    "# X_resampled, y_resampled = smote.fit_resample(X, y_encoded)\n",
    "\n",
    "# adasyn = ADASYN(sampling_strategy='auto', random_state=42, n_neighbors=5)\n",
    "\n",
    "smote = BorderlineSMOTE(random_state=42)\n",
    "\n",
    "# X_top_resampled, y_top_resampled = smote.fit_resample(X_1_top_features, y_encoded)\n",
    "# X_2_top_resampled, y_2_top_resampled = smote.fit_resample(X_2_top_features, y_encoded)\n",
    "\n",
    "X_all_features_resampled, y_all_features_resampled = smote.fit_resample(X_2_quanti, y_encoded)\n",
    "# X_2_all_features_resampled, y_2_top_resampled = smote.fit_resample(X_2_quanti, y_encoded)"
   ]
  },
  {
   "cell_type": "code",
   "execution_count": 30,
   "id": "92ef60d3",
   "metadata": {
    "execution": {
     "iopub.execute_input": "2024-11-21T17:46:41.991133Z",
     "iopub.status.busy": "2024-11-21T17:46:41.99069Z",
     "iopub.status.idle": "2024-11-21T17:46:42.001676Z",
     "shell.execute_reply": "2024-11-21T17:46:42.0005Z"
    },
    "papermill": {
     "duration": 0.030261,
     "end_time": "2024-11-21T17:46:42.004418",
     "exception": false,
     "start_time": "2024-11-21T17:46:41.974157",
     "status": "completed"
    },
    "tags": []
   },
   "outputs": [
    {
     "data": {
      "text/plain": [
       "0  \n",
       "0.0    266\n",
       "1.0    266\n",
       "2.0    266\n",
       "3.0    266\n",
       "4.0    266\n",
       "5.0    266\n",
       "6.0    266\n",
       "Name: count, dtype: int64"
      ]
     },
     "execution_count": 30,
     "metadata": {},
     "output_type": "execute_result"
    }
   ],
   "source": [
    "pd.DataFrame(y_all_features_resampled).value_counts()"
   ]
  },
  {
   "cell_type": "code",
   "execution_count": 31,
   "id": "29fe44b1",
   "metadata": {
    "execution": {
     "iopub.execute_input": "2024-11-21T17:46:42.037101Z",
     "iopub.status.busy": "2024-11-21T17:46:42.036706Z",
     "iopub.status.idle": "2024-11-21T17:46:42.041078Z",
     "shell.execute_reply": "2024-11-21T17:46:42.040091Z"
    },
    "papermill": {
     "duration": 0.023278,
     "end_time": "2024-11-21T17:46:42.043249",
     "exception": false,
     "start_time": "2024-11-21T17:46:42.019971",
     "status": "completed"
    },
    "tags": []
   },
   "outputs": [],
   "source": [
    "# for col in X_1.columns.tolist():\n",
    "#     treat_outliers_iqr(X_all_features_resampled, col, factor=1.5)"
   ]
  },
  {
   "cell_type": "code",
   "execution_count": 32,
   "id": "4d451e4b",
   "metadata": {
    "execution": {
     "iopub.execute_input": "2024-11-21T17:46:42.076321Z",
     "iopub.status.busy": "2024-11-21T17:46:42.075908Z",
     "iopub.status.idle": "2024-11-21T17:47:01.116359Z",
     "shell.execute_reply": "2024-11-21T17:47:01.115332Z"
    },
    "papermill": {
     "duration": 19.060194,
     "end_time": "2024-11-21T17:47:01.118936",
     "exception": false,
     "start_time": "2024-11-21T17:46:42.058742",
     "status": "completed"
    },
    "tags": []
   },
   "outputs": [
    {
     "data": {
      "text/plain": [
       "61446"
      ]
     },
     "execution_count": 32,
     "metadata": {},
     "output_type": "execute_result"
    }
   ],
   "source": [
    "outliers_summary = detect_outliers_summary(X_all_features_resampled)\n",
    "outliers_summary['num_outliers'].sum()"
   ]
  },
  {
   "cell_type": "code",
   "execution_count": 33,
   "id": "e74ee0c2",
   "metadata": {
    "execution": {
     "iopub.execute_input": "2024-11-21T17:47:01.151838Z",
     "iopub.status.busy": "2024-11-21T17:47:01.151425Z",
     "iopub.status.idle": "2024-11-21T17:47:01.192936Z",
     "shell.execute_reply": "2024-11-21T17:47:01.192057Z"
    },
    "papermill": {
     "duration": 0.060739,
     "end_time": "2024-11-21T17:47:01.195337",
     "exception": false,
     "start_time": "2024-11-21T17:47:01.134598",
     "status": "completed"
    },
    "tags": []
   },
   "outputs": [],
   "source": [
    "X_2 = X_all_features_resampled.loc[:, ['age', 'education', 'IQ']]\n",
    "X_all_features_resampled.drop(columns=['age', 'education', 'IQ'], inplace=True)"
   ]
  },
  {
   "cell_type": "code",
   "execution_count": 34,
   "id": "c433a948",
   "metadata": {
    "execution": {
     "iopub.execute_input": "2024-11-21T17:47:01.22869Z",
     "iopub.status.busy": "2024-11-21T17:47:01.228259Z",
     "iopub.status.idle": "2024-11-21T17:47:01.261977Z",
     "shell.execute_reply": "2024-11-21T17:47:01.260847Z"
    },
    "papermill": {
     "duration": 0.053196,
     "end_time": "2024-11-21T17:47:01.264637",
     "exception": false,
     "start_time": "2024-11-21T17:47:01.211441",
     "status": "completed"
    },
    "tags": []
   },
   "outputs": [
    {
     "data": {
      "text/html": [
       "<div>\n",
       "<style scoped>\n",
       "    .dataframe tbody tr th:only-of-type {\n",
       "        vertical-align: middle;\n",
       "    }\n",
       "\n",
       "    .dataframe tbody tr th {\n",
       "        vertical-align: top;\n",
       "    }\n",
       "\n",
       "    .dataframe thead th {\n",
       "        text-align: right;\n",
       "    }\n",
       "</style>\n",
       "<table border=\"1\" class=\"dataframe\">\n",
       "  <thead>\n",
       "    <tr style=\"text-align: right;\">\n",
       "      <th></th>\n",
       "      <th>AB.A.delta.a.FP1</th>\n",
       "      <th>AB.A.delta.b.FP2</th>\n",
       "      <th>AB.A.delta.c.F7</th>\n",
       "      <th>AB.A.delta.d.F3</th>\n",
       "      <th>AB.A.delta.e.Fz</th>\n",
       "      <th>AB.A.delta.f.F4</th>\n",
       "      <th>AB.A.delta.g.F8</th>\n",
       "      <th>AB.A.delta.h.T3</th>\n",
       "      <th>AB.A.delta.i.C3</th>\n",
       "      <th>AB.A.delta.j.Cz</th>\n",
       "      <th>...</th>\n",
       "      <th>COH.F.gamma.o.Pz.p.P4</th>\n",
       "      <th>COH.F.gamma.o.Pz.q.T6</th>\n",
       "      <th>COH.F.gamma.o.Pz.r.O1</th>\n",
       "      <th>COH.F.gamma.o.Pz.s.O2</th>\n",
       "      <th>COH.F.gamma.p.P4.q.T6</th>\n",
       "      <th>COH.F.gamma.p.P4.r.O1</th>\n",
       "      <th>COH.F.gamma.p.P4.s.O2</th>\n",
       "      <th>COH.F.gamma.q.T6.r.O1</th>\n",
       "      <th>COH.F.gamma.q.T6.s.O2</th>\n",
       "      <th>COH.F.gamma.r.O1.s.O2</th>\n",
       "    </tr>\n",
       "  </thead>\n",
       "  <tbody>\n",
       "    <tr>\n",
       "      <th>0</th>\n",
       "      <td>35.998557</td>\n",
       "      <td>21.717375</td>\n",
       "      <td>21.518280</td>\n",
       "      <td>26.825048</td>\n",
       "      <td>26.611516</td>\n",
       "      <td>25.732649</td>\n",
       "      <td>16.563408</td>\n",
       "      <td>29.891368</td>\n",
       "      <td>22.402246</td>\n",
       "      <td>22.582176</td>\n",
       "      <td>...</td>\n",
       "      <td>55.989192</td>\n",
       "      <td>16.739679</td>\n",
       "      <td>23.452271</td>\n",
       "      <td>45.678820</td>\n",
       "      <td>30.167520</td>\n",
       "      <td>16.918761</td>\n",
       "      <td>48.850427</td>\n",
       "      <td>9.422630</td>\n",
       "      <td>34.507082</td>\n",
       "      <td>28.613029</td>\n",
       "    </tr>\n",
       "    <tr>\n",
       "      <th>1</th>\n",
       "      <td>13.425118</td>\n",
       "      <td>11.002916</td>\n",
       "      <td>11.942516</td>\n",
       "      <td>15.272216</td>\n",
       "      <td>14.151570</td>\n",
       "      <td>12.456034</td>\n",
       "      <td>8.436832</td>\n",
       "      <td>9.975238</td>\n",
       "      <td>14.834740</td>\n",
       "      <td>10.950564</td>\n",
       "      <td>...</td>\n",
       "      <td>45.595619</td>\n",
       "      <td>17.510824</td>\n",
       "      <td>26.777368</td>\n",
       "      <td>28.201062</td>\n",
       "      <td>57.108861</td>\n",
       "      <td>32.375401</td>\n",
       "      <td>60.351749</td>\n",
       "      <td>13.900981</td>\n",
       "      <td>57.831848</td>\n",
       "      <td>43.463261</td>\n",
       "    </tr>\n",
       "    <tr>\n",
       "      <th>2</th>\n",
       "      <td>29.941780</td>\n",
       "      <td>27.544684</td>\n",
       "      <td>17.150159</td>\n",
       "      <td>23.608960</td>\n",
       "      <td>27.087811</td>\n",
       "      <td>13.541237</td>\n",
       "      <td>16.523963</td>\n",
       "      <td>12.775574</td>\n",
       "      <td>21.686306</td>\n",
       "      <td>18.367666</td>\n",
       "      <td>...</td>\n",
       "      <td>99.475453</td>\n",
       "      <td>70.654171</td>\n",
       "      <td>39.131547</td>\n",
       "      <td>69.920996</td>\n",
       "      <td>71.063644</td>\n",
       "      <td>38.534505</td>\n",
       "      <td>69.908764</td>\n",
       "      <td>27.180532</td>\n",
       "      <td>64.803155</td>\n",
       "      <td>31.485799</td>\n",
       "    </tr>\n",
       "    <tr>\n",
       "      <th>3</th>\n",
       "      <td>21.496226</td>\n",
       "      <td>21.846832</td>\n",
       "      <td>17.364316</td>\n",
       "      <td>13.833701</td>\n",
       "      <td>14.100954</td>\n",
       "      <td>13.100939</td>\n",
       "      <td>14.613650</td>\n",
       "      <td>8.063191</td>\n",
       "      <td>11.015078</td>\n",
       "      <td>11.639560</td>\n",
       "      <td>...</td>\n",
       "      <td>59.986561</td>\n",
       "      <td>63.822201</td>\n",
       "      <td>36.478254</td>\n",
       "      <td>47.117006</td>\n",
       "      <td>84.658376</td>\n",
       "      <td>24.724096</td>\n",
       "      <td>50.299349</td>\n",
       "      <td>35.319695</td>\n",
       "      <td>79.822944</td>\n",
       "      <td>41.141873</td>\n",
       "    </tr>\n",
       "    <tr>\n",
       "      <th>4</th>\n",
       "      <td>37.775667</td>\n",
       "      <td>33.607679</td>\n",
       "      <td>21.865556</td>\n",
       "      <td>21.771413</td>\n",
       "      <td>22.854536</td>\n",
       "      <td>21.456377</td>\n",
       "      <td>15.969042</td>\n",
       "      <td>9.434306</td>\n",
       "      <td>15.244523</td>\n",
       "      <td>17.041979</td>\n",
       "      <td>...</td>\n",
       "      <td>61.462720</td>\n",
       "      <td>59.166097</td>\n",
       "      <td>51.465531</td>\n",
       "      <td>58.635415</td>\n",
       "      <td>80.685608</td>\n",
       "      <td>62.138436</td>\n",
       "      <td>75.888749</td>\n",
       "      <td>61.003944</td>\n",
       "      <td>87.455509</td>\n",
       "      <td>70.531662</td>\n",
       "    </tr>\n",
       "    <tr>\n",
       "      <th>...</th>\n",
       "      <td>...</td>\n",
       "      <td>...</td>\n",
       "      <td>...</td>\n",
       "      <td>...</td>\n",
       "      <td>...</td>\n",
       "      <td>...</td>\n",
       "      <td>...</td>\n",
       "      <td>...</td>\n",
       "      <td>...</td>\n",
       "      <td>...</td>\n",
       "      <td>...</td>\n",
       "      <td>...</td>\n",
       "      <td>...</td>\n",
       "      <td>...</td>\n",
       "      <td>...</td>\n",
       "      <td>...</td>\n",
       "      <td>...</td>\n",
       "      <td>...</td>\n",
       "      <td>...</td>\n",
       "      <td>...</td>\n",
       "      <td>...</td>\n",
       "    </tr>\n",
       "    <tr>\n",
       "      <th>1857</th>\n",
       "      <td>16.562446</td>\n",
       "      <td>27.632508</td>\n",
       "      <td>16.263492</td>\n",
       "      <td>15.198508</td>\n",
       "      <td>11.377521</td>\n",
       "      <td>12.433356</td>\n",
       "      <td>15.015650</td>\n",
       "      <td>10.237094</td>\n",
       "      <td>8.603530</td>\n",
       "      <td>9.747749</td>\n",
       "      <td>...</td>\n",
       "      <td>64.346925</td>\n",
       "      <td>35.208785</td>\n",
       "      <td>30.477035</td>\n",
       "      <td>45.544706</td>\n",
       "      <td>60.318937</td>\n",
       "      <td>25.504687</td>\n",
       "      <td>64.975848</td>\n",
       "      <td>17.381227</td>\n",
       "      <td>66.919523</td>\n",
       "      <td>31.864837</td>\n",
       "    </tr>\n",
       "    <tr>\n",
       "      <th>1858</th>\n",
       "      <td>18.687103</td>\n",
       "      <td>24.936895</td>\n",
       "      <td>15.821645</td>\n",
       "      <td>15.227341</td>\n",
       "      <td>27.228849</td>\n",
       "      <td>14.924671</td>\n",
       "      <td>13.831693</td>\n",
       "      <td>9.707966</td>\n",
       "      <td>12.599548</td>\n",
       "      <td>17.799487</td>\n",
       "      <td>...</td>\n",
       "      <td>72.375301</td>\n",
       "      <td>41.632042</td>\n",
       "      <td>42.535414</td>\n",
       "      <td>48.481163</td>\n",
       "      <td>53.180884</td>\n",
       "      <td>27.594997</td>\n",
       "      <td>56.261067</td>\n",
       "      <td>22.550225</td>\n",
       "      <td>62.832313</td>\n",
       "      <td>38.900185</td>\n",
       "    </tr>\n",
       "    <tr>\n",
       "      <th>1859</th>\n",
       "      <td>30.282015</td>\n",
       "      <td>27.303971</td>\n",
       "      <td>18.488827</td>\n",
       "      <td>29.947922</td>\n",
       "      <td>40.152306</td>\n",
       "      <td>42.720962</td>\n",
       "      <td>23.889057</td>\n",
       "      <td>11.113195</td>\n",
       "      <td>23.334683</td>\n",
       "      <td>40.679022</td>\n",
       "      <td>...</td>\n",
       "      <td>65.218326</td>\n",
       "      <td>40.970966</td>\n",
       "      <td>38.002354</td>\n",
       "      <td>44.525671</td>\n",
       "      <td>55.284992</td>\n",
       "      <td>23.702585</td>\n",
       "      <td>54.976024</td>\n",
       "      <td>16.021336</td>\n",
       "      <td>63.466384</td>\n",
       "      <td>27.708143</td>\n",
       "    </tr>\n",
       "    <tr>\n",
       "      <th>1860</th>\n",
       "      <td>17.096277</td>\n",
       "      <td>15.041191</td>\n",
       "      <td>15.996200</td>\n",
       "      <td>18.376508</td>\n",
       "      <td>26.930359</td>\n",
       "      <td>19.653401</td>\n",
       "      <td>11.648074</td>\n",
       "      <td>11.263550</td>\n",
       "      <td>17.131067</td>\n",
       "      <td>24.131289</td>\n",
       "      <td>...</td>\n",
       "      <td>80.618166</td>\n",
       "      <td>53.869549</td>\n",
       "      <td>43.620611</td>\n",
       "      <td>59.287785</td>\n",
       "      <td>69.675702</td>\n",
       "      <td>35.963907</td>\n",
       "      <td>64.584703</td>\n",
       "      <td>21.209441</td>\n",
       "      <td>62.113842</td>\n",
       "      <td>47.125557</td>\n",
       "    </tr>\n",
       "    <tr>\n",
       "      <th>1861</th>\n",
       "      <td>14.824950</td>\n",
       "      <td>15.248864</td>\n",
       "      <td>12.458666</td>\n",
       "      <td>17.534882</td>\n",
       "      <td>16.472100</td>\n",
       "      <td>13.228112</td>\n",
       "      <td>15.302220</td>\n",
       "      <td>9.928454</td>\n",
       "      <td>13.532175</td>\n",
       "      <td>15.899221</td>\n",
       "      <td>...</td>\n",
       "      <td>85.226310</td>\n",
       "      <td>68.145550</td>\n",
       "      <td>77.587078</td>\n",
       "      <td>76.532790</td>\n",
       "      <td>78.226013</td>\n",
       "      <td>68.223193</td>\n",
       "      <td>79.956584</td>\n",
       "      <td>61.065151</td>\n",
       "      <td>80.426580</td>\n",
       "      <td>74.031906</td>\n",
       "    </tr>\n",
       "  </tbody>\n",
       "</table>\n",
       "<p>1862 rows × 1140 columns</p>\n",
       "</div>"
      ],
      "text/plain": [
       "      AB.A.delta.a.FP1  AB.A.delta.b.FP2  AB.A.delta.c.F7  AB.A.delta.d.F3  \\\n",
       "0            35.998557         21.717375        21.518280        26.825048   \n",
       "1            13.425118         11.002916        11.942516        15.272216   \n",
       "2            29.941780         27.544684        17.150159        23.608960   \n",
       "3            21.496226         21.846832        17.364316        13.833701   \n",
       "4            37.775667         33.607679        21.865556        21.771413   \n",
       "...                ...               ...              ...              ...   \n",
       "1857         16.562446         27.632508        16.263492        15.198508   \n",
       "1858         18.687103         24.936895        15.821645        15.227341   \n",
       "1859         30.282015         27.303971        18.488827        29.947922   \n",
       "1860         17.096277         15.041191        15.996200        18.376508   \n",
       "1861         14.824950         15.248864        12.458666        17.534882   \n",
       "\n",
       "      AB.A.delta.e.Fz  AB.A.delta.f.F4  AB.A.delta.g.F8  AB.A.delta.h.T3  \\\n",
       "0           26.611516        25.732649        16.563408        29.891368   \n",
       "1           14.151570        12.456034         8.436832         9.975238   \n",
       "2           27.087811        13.541237        16.523963        12.775574   \n",
       "3           14.100954        13.100939        14.613650         8.063191   \n",
       "4           22.854536        21.456377        15.969042         9.434306   \n",
       "...               ...              ...              ...              ...   \n",
       "1857        11.377521        12.433356        15.015650        10.237094   \n",
       "1858        27.228849        14.924671        13.831693         9.707966   \n",
       "1859        40.152306        42.720962        23.889057        11.113195   \n",
       "1860        26.930359        19.653401        11.648074        11.263550   \n",
       "1861        16.472100        13.228112        15.302220         9.928454   \n",
       "\n",
       "      AB.A.delta.i.C3  AB.A.delta.j.Cz  ...  COH.F.gamma.o.Pz.p.P4  \\\n",
       "0           22.402246        22.582176  ...              55.989192   \n",
       "1           14.834740        10.950564  ...              45.595619   \n",
       "2           21.686306        18.367666  ...              99.475453   \n",
       "3           11.015078        11.639560  ...              59.986561   \n",
       "4           15.244523        17.041979  ...              61.462720   \n",
       "...               ...              ...  ...                    ...   \n",
       "1857         8.603530         9.747749  ...              64.346925   \n",
       "1858        12.599548        17.799487  ...              72.375301   \n",
       "1859        23.334683        40.679022  ...              65.218326   \n",
       "1860        17.131067        24.131289  ...              80.618166   \n",
       "1861        13.532175        15.899221  ...              85.226310   \n",
       "\n",
       "      COH.F.gamma.o.Pz.q.T6  COH.F.gamma.o.Pz.r.O1  COH.F.gamma.o.Pz.s.O2  \\\n",
       "0                 16.739679              23.452271              45.678820   \n",
       "1                 17.510824              26.777368              28.201062   \n",
       "2                 70.654171              39.131547              69.920996   \n",
       "3                 63.822201              36.478254              47.117006   \n",
       "4                 59.166097              51.465531              58.635415   \n",
       "...                     ...                    ...                    ...   \n",
       "1857              35.208785              30.477035              45.544706   \n",
       "1858              41.632042              42.535414              48.481163   \n",
       "1859              40.970966              38.002354              44.525671   \n",
       "1860              53.869549              43.620611              59.287785   \n",
       "1861              68.145550              77.587078              76.532790   \n",
       "\n",
       "      COH.F.gamma.p.P4.q.T6  COH.F.gamma.p.P4.r.O1  COH.F.gamma.p.P4.s.O2  \\\n",
       "0                 30.167520              16.918761              48.850427   \n",
       "1                 57.108861              32.375401              60.351749   \n",
       "2                 71.063644              38.534505              69.908764   \n",
       "3                 84.658376              24.724096              50.299349   \n",
       "4                 80.685608              62.138436              75.888749   \n",
       "...                     ...                    ...                    ...   \n",
       "1857              60.318937              25.504687              64.975848   \n",
       "1858              53.180884              27.594997              56.261067   \n",
       "1859              55.284992              23.702585              54.976024   \n",
       "1860              69.675702              35.963907              64.584703   \n",
       "1861              78.226013              68.223193              79.956584   \n",
       "\n",
       "      COH.F.gamma.q.T6.r.O1  COH.F.gamma.q.T6.s.O2  COH.F.gamma.r.O1.s.O2  \n",
       "0                  9.422630              34.507082              28.613029  \n",
       "1                 13.900981              57.831848              43.463261  \n",
       "2                 27.180532              64.803155              31.485799  \n",
       "3                 35.319695              79.822944              41.141873  \n",
       "4                 61.003944              87.455509              70.531662  \n",
       "...                     ...                    ...                    ...  \n",
       "1857              17.381227              66.919523              31.864837  \n",
       "1858              22.550225              62.832313              38.900185  \n",
       "1859              16.021336              63.466384              27.708143  \n",
       "1860              21.209441              62.113842              47.125557  \n",
       "1861              61.065151              80.426580              74.031906  \n",
       "\n",
       "[1862 rows x 1140 columns]"
      ]
     },
     "execution_count": 34,
     "metadata": {},
     "output_type": "execute_result"
    }
   ],
   "source": [
    "pd.DataFrame(X_all_features_resampled)"
   ]
  },
  {
   "cell_type": "code",
   "execution_count": 35,
   "id": "b8dc0ce4",
   "metadata": {
    "execution": {
     "iopub.execute_input": "2024-11-21T17:47:01.299316Z",
     "iopub.status.busy": "2024-11-21T17:47:01.298565Z",
     "iopub.status.idle": "2024-11-21T17:47:01.31119Z",
     "shell.execute_reply": "2024-11-21T17:47:01.310107Z"
    },
    "papermill": {
     "duration": 0.032525,
     "end_time": "2024-11-21T17:47:01.313382",
     "exception": false,
     "start_time": "2024-11-21T17:47:01.280857",
     "status": "completed"
    },
    "tags": []
   },
   "outputs": [
    {
     "data": {
      "text/html": [
       "<div>\n",
       "<style scoped>\n",
       "    .dataframe tbody tr th:only-of-type {\n",
       "        vertical-align: middle;\n",
       "    }\n",
       "\n",
       "    .dataframe tbody tr th {\n",
       "        vertical-align: top;\n",
       "    }\n",
       "\n",
       "    .dataframe thead th {\n",
       "        text-align: right;\n",
       "    }\n",
       "</style>\n",
       "<table border=\"1\" class=\"dataframe\">\n",
       "  <thead>\n",
       "    <tr style=\"text-align: right;\">\n",
       "      <th></th>\n",
       "      <th>age</th>\n",
       "      <th>education</th>\n",
       "      <th>IQ</th>\n",
       "    </tr>\n",
       "  </thead>\n",
       "  <tbody>\n",
       "    <tr>\n",
       "      <th>0</th>\n",
       "      <td>4.060443</td>\n",
       "      <td>2.669913</td>\n",
       "      <td>4.630648</td>\n",
       "    </tr>\n",
       "    <tr>\n",
       "      <th>1</th>\n",
       "      <td>3.637586</td>\n",
       "      <td>1.945910</td>\n",
       "      <td>4.795791</td>\n",
       "    </tr>\n",
       "    <tr>\n",
       "      <th>2</th>\n",
       "      <td>3.496508</td>\n",
       "      <td>2.833213</td>\n",
       "      <td>4.736198</td>\n",
       "    </tr>\n",
       "    <tr>\n",
       "      <th>3</th>\n",
       "      <td>3.583519</td>\n",
       "      <td>2.944439</td>\n",
       "      <td>4.844187</td>\n",
       "    </tr>\n",
       "    <tr>\n",
       "      <th>4</th>\n",
       "      <td>3.610918</td>\n",
       "      <td>2.833213</td>\n",
       "      <td>4.727388</td>\n",
       "    </tr>\n",
       "    <tr>\n",
       "      <th>...</th>\n",
       "      <td>...</td>\n",
       "      <td>...</td>\n",
       "      <td>...</td>\n",
       "    </tr>\n",
       "    <tr>\n",
       "      <th>1857</th>\n",
       "      <td>3.715534</td>\n",
       "      <td>2.712917</td>\n",
       "      <td>4.696353</td>\n",
       "    </tr>\n",
       "    <tr>\n",
       "      <th>1858</th>\n",
       "      <td>3.961227</td>\n",
       "      <td>2.563495</td>\n",
       "      <td>4.660979</td>\n",
       "    </tr>\n",
       "    <tr>\n",
       "      <th>1859</th>\n",
       "      <td>3.200437</td>\n",
       "      <td>2.596631</td>\n",
       "      <td>4.616117</td>\n",
       "    </tr>\n",
       "    <tr>\n",
       "      <th>1860</th>\n",
       "      <td>3.574768</td>\n",
       "      <td>2.637718</td>\n",
       "      <td>4.624250</td>\n",
       "    </tr>\n",
       "    <tr>\n",
       "      <th>1861</th>\n",
       "      <td>3.056663</td>\n",
       "      <td>2.639057</td>\n",
       "      <td>4.340899</td>\n",
       "    </tr>\n",
       "  </tbody>\n",
       "</table>\n",
       "<p>1862 rows × 3 columns</p>\n",
       "</div>"
      ],
      "text/plain": [
       "           age  education        IQ\n",
       "0     4.060443   2.669913  4.630648\n",
       "1     3.637586   1.945910  4.795791\n",
       "2     3.496508   2.833213  4.736198\n",
       "3     3.583519   2.944439  4.844187\n",
       "4     3.610918   2.833213  4.727388\n",
       "...        ...        ...       ...\n",
       "1857  3.715534   2.712917  4.696353\n",
       "1858  3.961227   2.563495  4.660979\n",
       "1859  3.200437   2.596631  4.616117\n",
       "1860  3.574768   2.637718  4.624250\n",
       "1861  3.056663   2.639057  4.340899\n",
       "\n",
       "[1862 rows x 3 columns]"
      ]
     },
     "execution_count": 35,
     "metadata": {},
     "output_type": "execute_result"
    }
   ],
   "source": [
    "pd.DataFrame(X_2)"
   ]
  },
  {
   "cell_type": "markdown",
   "id": "54ae526c",
   "metadata": {
    "papermill": {
     "duration": 0.015913,
     "end_time": "2024-11-21T17:47:01.345621",
     "exception": false,
     "start_time": "2024-11-21T17:47:01.329708",
     "status": "completed"
    },
    "tags": []
   },
   "source": [
    "## Feature extraction"
   ]
  },
  {
   "cell_type": "code",
   "execution_count": 36,
   "id": "53403a9f",
   "metadata": {
    "execution": {
     "iopub.execute_input": "2024-11-21T17:47:01.437576Z",
     "iopub.status.busy": "2024-11-21T17:47:01.437161Z",
     "iopub.status.idle": "2024-11-21T17:47:01.556015Z",
     "shell.execute_reply": "2024-11-21T17:47:01.554938Z"
    },
    "papermill": {
     "duration": 0.196947,
     "end_time": "2024-11-21T17:47:01.558564",
     "exception": false,
     "start_time": "2024-11-21T17:47:01.361617",
     "status": "completed"
    },
    "tags": []
   },
   "outputs": [],
   "source": [
    "scaler = StandardScaler()\n",
    "X_scaled = scaler.fit_transform(X_all_features_resampled)"
   ]
  },
  {
   "cell_type": "code",
   "execution_count": 37,
   "id": "63555f3d",
   "metadata": {
    "execution": {
     "iopub.execute_input": "2024-11-21T17:47:01.592881Z",
     "iopub.status.busy": "2024-11-21T17:47:01.592445Z",
     "iopub.status.idle": "2024-11-21T17:47:01.600287Z",
     "shell.execute_reply": "2024-11-21T17:47:01.599138Z"
    },
    "papermill": {
     "duration": 0.027676,
     "end_time": "2024-11-21T17:47:01.602645",
     "exception": false,
     "start_time": "2024-11-21T17:47:01.574969",
     "status": "completed"
    },
    "tags": []
   },
   "outputs": [
    {
     "data": {
      "text/plain": [
       "array([[ 1.5988961 ,  0.07833824,  0.49063504, ..., -1.46312494,\n",
       "        -1.87894757, -1.49937463],\n",
       "       [-0.61812528, -0.8941122 , -0.57951542, ..., -1.23808485,\n",
       "        -0.49671331, -0.70592394],\n",
       "       [ 1.00403751,  0.60722815,  0.00247068, ..., -0.57077864,\n",
       "        -0.08359108, -1.34588199],\n",
       "       ...,\n",
       "       [ 1.03745328,  0.58538094,  0.15207507, ..., -1.13153559,\n",
       "        -0.1628086 , -1.54772286],\n",
       "       [-0.25756707, -0.52759608, -0.12649131, ..., -0.8708299 ,\n",
       "        -0.24296078, -0.5102468 ],\n",
       "       [-0.48064258, -0.50874754, -0.52183245, ...,  1.13194588,\n",
       "         0.84225885,  0.92736452]])"
      ]
     },
     "execution_count": 37,
     "metadata": {},
     "output_type": "execute_result"
    }
   ],
   "source": [
    "X_scaled"
   ]
  },
  {
   "cell_type": "code",
   "execution_count": 38,
   "id": "2e35c429",
   "metadata": {
    "execution": {
     "iopub.execute_input": "2024-11-21T17:47:01.639074Z",
     "iopub.status.busy": "2024-11-21T17:47:01.638092Z",
     "iopub.status.idle": "2024-11-21T17:47:02.977583Z",
     "shell.execute_reply": "2024-11-21T17:47:02.976325Z"
    },
    "papermill": {
     "duration": 1.361212,
     "end_time": "2024-11-21T17:47:02.980298",
     "exception": false,
     "start_time": "2024-11-21T17:47:01.619086",
     "status": "completed"
    },
    "tags": []
   },
   "outputs": [
    {
     "data": {
      "image/png": "[encoded data removed]",
      "text/plain": [
       "<Figure size 800x600 with 1 Axes>"
      ]
     },
     "metadata": {},
     "output_type": "display_data"
    },
    {
     "name": "stdout",
     "output_type": "stream",
     "text": [
      "Components required for 95% of variance: 84\n",
      "Components required for 99% of variance: 223\n"
     ]
    }
   ],
   "source": [
    "pca = PCA()\n",
    "pca.fit(X_scaled)\n",
    "\n",
    "explained_variance = pca.explained_variance_ratio_\n",
    "cumulative_variance = explained_variance.cumsum()\n",
    "\n",
    "plt.figure(figsize=(8, 6))\n",
    "plt.plot(cumulative_variance, marker='o', linestyle='--')\n",
    "plt.title('Cumulative Explained Variance - PCA')\n",
    "plt.xlabel('Number of Components') \n",
    "plt.ylabel('Cumulative Explained Variance')\n",
    "plt.grid(True)\n",
    "plt.show()\n",
    "\n",
    "n_components_95 = (cumulative_variance >= 0.95).argmax() + 1  \n",
    "n_components_99 = (cumulative_variance >= 0.99).argmax() + 1  \n",
    "\n",
    "print(f\"Components required for 95% of variance: {n_components_95}\")\n",
    "print(f\"Components required for 99% of variance: {n_components_99}\")"
   ]
  },
  {
   "cell_type": "code",
   "execution_count": 39,
   "id": "c20ee2fc",
   "metadata": {
    "execution": {
     "iopub.execute_input": "2024-11-21T17:47:03.02734Z",
     "iopub.status.busy": "2024-11-21T17:47:03.026954Z",
     "iopub.status.idle": "2024-11-21T17:47:05.904139Z",
     "shell.execute_reply": "2024-11-21T17:47:05.901908Z"
    },
    "papermill": {
     "duration": 2.909773,
     "end_time": "2024-11-21T17:47:05.907975",
     "exception": false,
     "start_time": "2024-11-21T17:47:02.998202",
     "status": "completed"
    },
    "tags": []
   },
   "outputs": [
    {
     "name": "stdout",
     "output_type": "stream",
     "text": [
      "Shape of the data after PCA with 223 components: (1862, 223), type: <class 'numpy.ndarray'>\n"
     ]
    }
   ],
   "source": [
    "pca = PCA(n_components=n_components_99)\n",
    "X_pca_99 = pca.fit_transform(X_scaled)\n",
    "\n",
    "print(f\"Shape of the data after PCA with {n_components_99} components: {X_pca_99.shape}, type: {type(X_pca_99)}\")"
   ]
  },
  {
   "cell_type": "code",
   "execution_count": 40,
   "id": "367795bc",
   "metadata": {
    "execution": {
     "iopub.execute_input": "2024-11-21T17:47:06.012129Z",
     "iopub.status.busy": "2024-11-21T17:47:06.011738Z",
     "iopub.status.idle": "2024-11-21T17:47:06.037194Z",
     "shell.execute_reply": "2024-11-21T17:47:06.036104Z"
    },
    "papermill": {
     "duration": 0.078345,
     "end_time": "2024-11-21T17:47:06.039514",
     "exception": false,
     "start_time": "2024-11-21T17:47:05.961169",
     "status": "completed"
    },
    "tags": []
   },
   "outputs": [
    {
     "data": {
      "text/html": [
       "<div>\n",
       "<style scoped>\n",
       "    .dataframe tbody tr th:only-of-type {\n",
       "        vertical-align: middle;\n",
       "    }\n",
       "\n",
       "    .dataframe tbody tr th {\n",
       "        vertical-align: top;\n",
       "    }\n",
       "\n",
       "    .dataframe thead th {\n",
       "        text-align: right;\n",
       "    }\n",
       "</style>\n",
       "<table border=\"1\" class=\"dataframe\">\n",
       "  <thead>\n",
       "    <tr style=\"text-align: right;\">\n",
       "      <th></th>\n",
       "      <th>0</th>\n",
       "      <th>1</th>\n",
       "      <th>2</th>\n",
       "      <th>3</th>\n",
       "      <th>4</th>\n",
       "      <th>5</th>\n",
       "      <th>6</th>\n",
       "      <th>7</th>\n",
       "      <th>8</th>\n",
       "      <th>9</th>\n",
       "      <th>...</th>\n",
       "      <th>213</th>\n",
       "      <th>214</th>\n",
       "      <th>215</th>\n",
       "      <th>216</th>\n",
       "      <th>217</th>\n",
       "      <th>218</th>\n",
       "      <th>219</th>\n",
       "      <th>220</th>\n",
       "      <th>221</th>\n",
       "      <th>222</th>\n",
       "    </tr>\n",
       "  </thead>\n",
       "  <tbody>\n",
       "    <tr>\n",
       "      <th>0</th>\n",
       "      <td>-33.042851</td>\n",
       "      <td>-3.063786</td>\n",
       "      <td>-2.096499</td>\n",
       "      <td>3.570287</td>\n",
       "      <td>-0.582739</td>\n",
       "      <td>6.888249</td>\n",
       "      <td>-2.238154</td>\n",
       "      <td>-3.557430</td>\n",
       "      <td>-2.227072</td>\n",
       "      <td>0.102341</td>\n",
       "      <td>...</td>\n",
       "      <td>-0.200539</td>\n",
       "      <td>0.106558</td>\n",
       "      <td>0.641835</td>\n",
       "      <td>-0.529035</td>\n",
       "      <td>-0.236362</td>\n",
       "      <td>0.051877</td>\n",
       "      <td>-0.003695</td>\n",
       "      <td>-0.481202</td>\n",
       "      <td>-0.389315</td>\n",
       "      <td>0.982882</td>\n",
       "    </tr>\n",
       "    <tr>\n",
       "      <th>1</th>\n",
       "      <td>-17.184181</td>\n",
       "      <td>-9.714039</td>\n",
       "      <td>-3.544905</td>\n",
       "      <td>-3.734123</td>\n",
       "      <td>4.912577</td>\n",
       "      <td>3.355680</td>\n",
       "      <td>-5.919132</td>\n",
       "      <td>5.613189</td>\n",
       "      <td>-5.325987</td>\n",
       "      <td>2.549948</td>\n",
       "      <td>...</td>\n",
       "      <td>-0.665741</td>\n",
       "      <td>0.711784</td>\n",
       "      <td>0.551841</td>\n",
       "      <td>0.237708</td>\n",
       "      <td>-0.256704</td>\n",
       "      <td>0.195837</td>\n",
       "      <td>-0.016307</td>\n",
       "      <td>0.101901</td>\n",
       "      <td>-0.388984</td>\n",
       "      <td>0.146000</td>\n",
       "    </tr>\n",
       "    <tr>\n",
       "      <th>2</th>\n",
       "      <td>-10.041829</td>\n",
       "      <td>14.351104</td>\n",
       "      <td>3.687081</td>\n",
       "      <td>-7.419535</td>\n",
       "      <td>-2.709208</td>\n",
       "      <td>2.544526</td>\n",
       "      <td>-5.907424</td>\n",
       "      <td>2.953080</td>\n",
       "      <td>-1.050259</td>\n",
       "      <td>-3.839420</td>\n",
       "      <td>...</td>\n",
       "      <td>0.348037</td>\n",
       "      <td>0.544931</td>\n",
       "      <td>0.036988</td>\n",
       "      <td>0.319521</td>\n",
       "      <td>0.192948</td>\n",
       "      <td>0.579618</td>\n",
       "      <td>-0.126388</td>\n",
       "      <td>0.256924</td>\n",
       "      <td>0.368326</td>\n",
       "      <td>-0.156236</td>\n",
       "    </tr>\n",
       "    <tr>\n",
       "      <th>3</th>\n",
       "      <td>-12.310047</td>\n",
       "      <td>0.384884</td>\n",
       "      <td>-6.091814</td>\n",
       "      <td>11.028865</td>\n",
       "      <td>-9.958479</td>\n",
       "      <td>4.958268</td>\n",
       "      <td>-6.029395</td>\n",
       "      <td>4.121678</td>\n",
       "      <td>-0.899281</td>\n",
       "      <td>-6.451168</td>\n",
       "      <td>...</td>\n",
       "      <td>-0.374859</td>\n",
       "      <td>-0.068000</td>\n",
       "      <td>0.247973</td>\n",
       "      <td>-0.432872</td>\n",
       "      <td>-0.224407</td>\n",
       "      <td>0.691725</td>\n",
       "      <td>0.666539</td>\n",
       "      <td>0.465550</td>\n",
       "      <td>0.111645</td>\n",
       "      <td>0.607769</td>\n",
       "    </tr>\n",
       "    <tr>\n",
       "      <th>4</th>\n",
       "      <td>13.879914</td>\n",
       "      <td>16.328535</td>\n",
       "      <td>-4.590380</td>\n",
       "      <td>7.153627</td>\n",
       "      <td>-2.979485</td>\n",
       "      <td>1.359319</td>\n",
       "      <td>1.137978</td>\n",
       "      <td>-2.231129</td>\n",
       "      <td>-1.545429</td>\n",
       "      <td>0.302914</td>\n",
       "      <td>...</td>\n",
       "      <td>-0.008164</td>\n",
       "      <td>0.369224</td>\n",
       "      <td>-0.432421</td>\n",
       "      <td>-0.953547</td>\n",
       "      <td>-0.358786</td>\n",
       "      <td>-0.192418</td>\n",
       "      <td>0.266385</td>\n",
       "      <td>-0.013051</td>\n",
       "      <td>0.089995</td>\n",
       "      <td>-0.237033</td>\n",
       "    </tr>\n",
       "    <tr>\n",
       "      <th>...</th>\n",
       "      <td>...</td>\n",
       "      <td>...</td>\n",
       "      <td>...</td>\n",
       "      <td>...</td>\n",
       "      <td>...</td>\n",
       "      <td>...</td>\n",
       "      <td>...</td>\n",
       "      <td>...</td>\n",
       "      <td>...</td>\n",
       "      <td>...</td>\n",
       "      <td>...</td>\n",
       "      <td>...</td>\n",
       "      <td>...</td>\n",
       "      <td>...</td>\n",
       "      <td>...</td>\n",
       "      <td>...</td>\n",
       "      <td>...</td>\n",
       "      <td>...</td>\n",
       "      <td>...</td>\n",
       "      <td>...</td>\n",
       "      <td>...</td>\n",
       "    </tr>\n",
       "    <tr>\n",
       "      <th>1857</th>\n",
       "      <td>-20.735088</td>\n",
       "      <td>-4.485997</td>\n",
       "      <td>-7.125014</td>\n",
       "      <td>4.780817</td>\n",
       "      <td>-7.565263</td>\n",
       "      <td>-3.549165</td>\n",
       "      <td>-0.164748</td>\n",
       "      <td>-3.823793</td>\n",
       "      <td>0.620422</td>\n",
       "      <td>0.035989</td>\n",
       "      <td>...</td>\n",
       "      <td>-0.148691</td>\n",
       "      <td>-0.277270</td>\n",
       "      <td>0.400480</td>\n",
       "      <td>-0.120343</td>\n",
       "      <td>0.113988</td>\n",
       "      <td>-0.210004</td>\n",
       "      <td>0.078586</td>\n",
       "      <td>0.319115</td>\n",
       "      <td>0.309346</td>\n",
       "      <td>0.023806</td>\n",
       "    </tr>\n",
       "    <tr>\n",
       "      <th>1858</th>\n",
       "      <td>-26.079875</td>\n",
       "      <td>1.462360</td>\n",
       "      <td>0.572368</td>\n",
       "      <td>-4.696177</td>\n",
       "      <td>-3.698793</td>\n",
       "      <td>-0.850575</td>\n",
       "      <td>-2.744517</td>\n",
       "      <td>-2.711256</td>\n",
       "      <td>0.420528</td>\n",
       "      <td>1.001620</td>\n",
       "      <td>...</td>\n",
       "      <td>-0.062743</td>\n",
       "      <td>0.273193</td>\n",
       "      <td>0.331980</td>\n",
       "      <td>0.173799</td>\n",
       "      <td>0.305168</td>\n",
       "      <td>0.520792</td>\n",
       "      <td>0.074347</td>\n",
       "      <td>0.221687</td>\n",
       "      <td>-0.026072</td>\n",
       "      <td>0.407858</td>\n",
       "    </tr>\n",
       "    <tr>\n",
       "      <th>1859</th>\n",
       "      <td>-25.328717</td>\n",
       "      <td>-3.737956</td>\n",
       "      <td>-2.996258</td>\n",
       "      <td>10.100057</td>\n",
       "      <td>-0.803384</td>\n",
       "      <td>6.756863</td>\n",
       "      <td>-3.816019</td>\n",
       "      <td>-2.472505</td>\n",
       "      <td>-2.319806</td>\n",
       "      <td>6.843003</td>\n",
       "      <td>...</td>\n",
       "      <td>0.018107</td>\n",
       "      <td>-0.253142</td>\n",
       "      <td>-0.250272</td>\n",
       "      <td>-0.800801</td>\n",
       "      <td>-0.432494</td>\n",
       "      <td>0.192064</td>\n",
       "      <td>0.297594</td>\n",
       "      <td>0.230052</td>\n",
       "      <td>0.304938</td>\n",
       "      <td>-0.373849</td>\n",
       "    </tr>\n",
       "    <tr>\n",
       "      <th>1860</th>\n",
       "      <td>-20.758973</td>\n",
       "      <td>0.908961</td>\n",
       "      <td>7.110991</td>\n",
       "      <td>10.521322</td>\n",
       "      <td>5.393746</td>\n",
       "      <td>-7.898943</td>\n",
       "      <td>-1.907898</td>\n",
       "      <td>-12.562722</td>\n",
       "      <td>0.418664</td>\n",
       "      <td>0.663388</td>\n",
       "      <td>...</td>\n",
       "      <td>-0.160031</td>\n",
       "      <td>0.700907</td>\n",
       "      <td>0.084315</td>\n",
       "      <td>-0.057536</td>\n",
       "      <td>-0.516951</td>\n",
       "      <td>-0.037638</td>\n",
       "      <td>0.172591</td>\n",
       "      <td>-0.466866</td>\n",
       "      <td>-0.592845</td>\n",
       "      <td>-0.088182</td>\n",
       "    </tr>\n",
       "    <tr>\n",
       "      <th>1861</th>\n",
       "      <td>30.031617</td>\n",
       "      <td>-2.981938</td>\n",
       "      <td>11.918717</td>\n",
       "      <td>3.587149</td>\n",
       "      <td>0.847654</td>\n",
       "      <td>6.350979</td>\n",
       "      <td>-4.214372</td>\n",
       "      <td>14.009049</td>\n",
       "      <td>0.894378</td>\n",
       "      <td>2.824275</td>\n",
       "      <td>...</td>\n",
       "      <td>0.114961</td>\n",
       "      <td>-0.397047</td>\n",
       "      <td>-0.432123</td>\n",
       "      <td>0.592937</td>\n",
       "      <td>0.092943</td>\n",
       "      <td>0.285520</td>\n",
       "      <td>0.243967</td>\n",
       "      <td>-0.114155</td>\n",
       "      <td>0.545389</td>\n",
       "      <td>0.047492</td>\n",
       "    </tr>\n",
       "  </tbody>\n",
       "</table>\n",
       "<p>1862 rows × 223 columns</p>\n",
       "</div>"
      ],
      "text/plain": [
       "            0          1          2          3         4         5    \\\n",
       "0    -33.042851  -3.063786  -2.096499   3.570287 -0.582739  6.888249   \n",
       "1    -17.184181  -9.714039  -3.544905  -3.734123  4.912577  3.355680   \n",
       "2    -10.041829  14.351104   3.687081  -7.419535 -2.709208  2.544526   \n",
       "3    -12.310047   0.384884  -6.091814  11.028865 -9.958479  4.958268   \n",
       "4     13.879914  16.328535  -4.590380   7.153627 -2.979485  1.359319   \n",
       "...         ...        ...        ...        ...       ...       ...   \n",
       "1857 -20.735088  -4.485997  -7.125014   4.780817 -7.565263 -3.549165   \n",
       "1858 -26.079875   1.462360   0.572368  -4.696177 -3.698793 -0.850575   \n",
       "1859 -25.328717  -3.737956  -2.996258  10.100057 -0.803384  6.756863   \n",
       "1860 -20.758973   0.908961   7.110991  10.521322  5.393746 -7.898943   \n",
       "1861  30.031617  -2.981938  11.918717   3.587149  0.847654  6.350979   \n",
       "\n",
       "           6          7         8         9    ...       213       214  \\\n",
       "0    -2.238154  -3.557430 -2.227072  0.102341  ... -0.200539  0.106558   \n",
       "1    -5.919132   5.613189 -5.325987  2.549948  ... -0.665741  0.711784   \n",
       "2    -5.907424   2.953080 -1.050259 -3.839420  ...  0.348037  0.544931   \n",
       "3    -6.029395   4.121678 -0.899281 -6.451168  ... -0.374859 -0.068000   \n",
       "4     1.137978  -2.231129 -1.545429  0.302914  ... -0.008164  0.369224   \n",
       "...        ...        ...       ...       ...  ...       ...       ...   \n",
       "1857 -0.164748  -3.823793  0.620422  0.035989  ... -0.148691 -0.277270   \n",
       "1858 -2.744517  -2.711256  0.420528  1.001620  ... -0.062743  0.273193   \n",
       "1859 -3.816019  -2.472505 -2.319806  6.843003  ...  0.018107 -0.253142   \n",
       "1860 -1.907898 -12.562722  0.418664  0.663388  ... -0.160031  0.700907   \n",
       "1861 -4.214372  14.009049  0.894378  2.824275  ...  0.114961 -0.397047   \n",
       "\n",
       "           215       216       217       218       219       220       221  \\\n",
       "0     0.641835 -0.529035 -0.236362  0.051877 -0.003695 -0.481202 -0.389315   \n",
       "1     0.551841  0.237708 -0.256704  0.195837 -0.016307  0.101901 -0.388984   \n",
       "2     0.036988  0.319521  0.192948  0.579618 -0.126388  0.256924  0.368326   \n",
       "3     0.247973 -0.432872 -0.224407  0.691725  0.666539  0.465550  0.111645   \n",
       "4    -0.432421 -0.953547 -0.358786 -0.192418  0.266385 -0.013051  0.089995   \n",
       "...        ...       ...       ...       ...       ...       ...       ...   \n",
       "1857  0.400480 -0.120343  0.113988 -0.210004  0.078586  0.319115  0.309346   \n",
       "1858  0.331980  0.173799  0.305168  0.520792  0.074347  0.221687 -0.026072   \n",
       "1859 -0.250272 -0.800801 -0.432494  0.192064  0.297594  0.230052  0.304938   \n",
       "1860  0.084315 -0.057536 -0.516951 -0.037638  0.172591 -0.466866 -0.592845   \n",
       "1861 -0.432123  0.592937  0.092943  0.285520  0.243967 -0.114155  0.545389   \n",
       "\n",
       "           222  \n",
       "0     0.982882  \n",
       "1     0.146000  \n",
       "2    -0.156236  \n",
       "3     0.607769  \n",
       "4    -0.237033  \n",
       "...        ...  \n",
       "1857  0.023806  \n",
       "1858  0.407858  \n",
       "1859 -0.373849  \n",
       "1860 -0.088182  \n",
       "1861  0.047492  \n",
       "\n",
       "[1862 rows x 223 columns]"
      ]
     },
     "execution_count": 40,
     "metadata": {},
     "output_type": "execute_result"
    }
   ],
   "source": [
    "pd.DataFrame(X_pca_99)"
   ]
  },
  {
   "cell_type": "code",
   "execution_count": 41,
   "id": "4888a63f",
   "metadata": {
    "execution": {
     "iopub.execute_input": "2024-11-21T17:47:06.078147Z",
     "iopub.status.busy": "2024-11-21T17:47:06.077086Z",
     "iopub.status.idle": "2024-11-21T17:47:06.087748Z",
     "shell.execute_reply": "2024-11-21T17:47:06.086713Z"
    },
    "papermill": {
     "duration": 0.032759,
     "end_time": "2024-11-21T17:47:06.089969",
     "exception": false,
     "start_time": "2024-11-21T17:47:06.05721",
     "status": "completed"
    },
    "tags": []
   },
   "outputs": [
    {
     "data": {
      "text/html": [
       "<div>\n",
       "<style scoped>\n",
       "    .dataframe tbody tr th:only-of-type {\n",
       "        vertical-align: middle;\n",
       "    }\n",
       "\n",
       "    .dataframe tbody tr th {\n",
       "        vertical-align: top;\n",
       "    }\n",
       "\n",
       "    .dataframe thead th {\n",
       "        text-align: right;\n",
       "    }\n",
       "</style>\n",
       "<table border=\"1\" class=\"dataframe\">\n",
       "  <thead>\n",
       "    <tr style=\"text-align: right;\">\n",
       "      <th></th>\n",
       "      <th>0</th>\n",
       "    </tr>\n",
       "  </thead>\n",
       "  <tbody>\n",
       "    <tr>\n",
       "      <th>0</th>\n",
       "      <td>0.0</td>\n",
       "    </tr>\n",
       "    <tr>\n",
       "      <th>1</th>\n",
       "      <td>0.0</td>\n",
       "    </tr>\n",
       "    <tr>\n",
       "      <th>2</th>\n",
       "      <td>0.0</td>\n",
       "    </tr>\n",
       "    <tr>\n",
       "      <th>3</th>\n",
       "      <td>0.0</td>\n",
       "    </tr>\n",
       "    <tr>\n",
       "      <th>4</th>\n",
       "      <td>0.0</td>\n",
       "    </tr>\n",
       "    <tr>\n",
       "      <th>...</th>\n",
       "      <td>...</td>\n",
       "    </tr>\n",
       "    <tr>\n",
       "      <th>1857</th>\n",
       "      <td>6.0</td>\n",
       "    </tr>\n",
       "    <tr>\n",
       "      <th>1858</th>\n",
       "      <td>6.0</td>\n",
       "    </tr>\n",
       "    <tr>\n",
       "      <th>1859</th>\n",
       "      <td>6.0</td>\n",
       "    </tr>\n",
       "    <tr>\n",
       "      <th>1860</th>\n",
       "      <td>6.0</td>\n",
       "    </tr>\n",
       "    <tr>\n",
       "      <th>1861</th>\n",
       "      <td>6.0</td>\n",
       "    </tr>\n",
       "  </tbody>\n",
       "</table>\n",
       "<p>1862 rows × 1 columns</p>\n",
       "</div>"
      ],
      "text/plain": [
       "        0\n",
       "0     0.0\n",
       "1     0.0\n",
       "2     0.0\n",
       "3     0.0\n",
       "4     0.0\n",
       "...   ...\n",
       "1857  6.0\n",
       "1858  6.0\n",
       "1859  6.0\n",
       "1860  6.0\n",
       "1861  6.0\n",
       "\n",
       "[1862 rows x 1 columns]"
      ]
     },
     "execution_count": 41,
     "metadata": {},
     "output_type": "execute_result"
    }
   ],
   "source": [
    "pd.DataFrame(y_all_features_resampled)"
   ]
  },
  {
   "cell_type": "markdown",
   "id": "aacd73cf",
   "metadata": {
    "papermill": {
     "duration": 0.017834,
     "end_time": "2024-11-21T17:47:06.1264",
     "exception": false,
     "start_time": "2024-11-21T17:47:06.108566",
     "status": "completed"
    },
    "tags": []
   },
   "source": [
    "## Custom dataset PyTorch"
   ]
  },
  {
   "cell_type": "code",
   "execution_count": 42,
   "id": "8b8990e7",
   "metadata": {
    "execution": {
     "iopub.execute_input": "2024-11-21T17:47:06.168159Z",
     "iopub.status.busy": "2024-11-21T17:47:06.167137Z",
     "iopub.status.idle": "2024-11-21T17:47:06.174008Z",
     "shell.execute_reply": "2024-11-21T17:47:06.173064Z"
    },
    "papermill": {
     "duration": 0.029919,
     "end_time": "2024-11-21T17:47:06.176237",
     "exception": false,
     "start_time": "2024-11-21T17:47:06.146318",
     "status": "completed"
    },
    "tags": []
   },
   "outputs": [],
   "source": [
    "class EEGDataset(Dataset):\n",
    "    def __init__(self, X, y):\n",
    "        self.X = torch.tensor(X, dtype=torch.float32)  \n",
    "        self.y = torch.tensor(y, dtype=torch.long)   \n",
    "\n",
    "    def __len__(self):\n",
    "        return len(self.X)\n",
    "\n",
    "    def __getitem__(self, idx):\n",
    "        return self.X[idx], self.y[idx]"
   ]
  },
  {
   "cell_type": "markdown",
   "id": "abd9987a",
   "metadata": {
    "papermill": {
     "duration": 0.017714,
     "end_time": "2024-11-21T17:47:06.211741",
     "exception": false,
     "start_time": "2024-11-21T17:47:06.194027",
     "status": "completed"
    },
    "tags": []
   },
   "source": [
    "### Split for train, val and test"
   ]
  },
  {
   "cell_type": "code",
   "execution_count": 43,
   "id": "afffdaa3",
   "metadata": {
    "execution": {
     "iopub.execute_input": "2024-11-21T17:47:06.249105Z",
     "iopub.status.busy": "2024-11-21T17:47:06.248718Z",
     "iopub.status.idle": "2024-11-21T17:47:06.256093Z",
     "shell.execute_reply": "2024-11-21T17:47:06.254989Z"
    },
    "papermill": {
     "duration": 0.028899,
     "end_time": "2024-11-21T17:47:06.258308",
     "exception": false,
     "start_time": "2024-11-21T17:47:06.229409",
     "status": "completed"
    },
    "tags": []
   },
   "outputs": [],
   "source": [
    "scaler = StandardScaler()\n",
    "scaler_type = type(scaler).__name__\n",
    "train_ratio = 0.7\n",
    "val_ratio = 0.15\n",
    "batch_size = 32\n",
    "output_dim = len(np.unique(y_encoded))\n",
    "\n",
    "neurons_x = [2880, 1440, 700, 300, 140]\n",
    "neurons = [1440, 700, 350, 150, 70]\n",
    "neurons1 = [1024, 512, 256, 128, 64]\n",
    "neurons2 = [512, 256, 128, 64, 32]\n",
    "neurons3 = [256, 128, 64, 32, 16]\n",
    "neurons4 = [128, 64, 32, 16, 8]\n",
    "\n",
    "dropout = 0.10\n",
    "learning_rate = 0.00001\n",
    "num_epochs = 500"
   ]
  },
  {
   "cell_type": "code",
   "execution_count": 44,
   "id": "c964aabe",
   "metadata": {
    "execution": {
     "iopub.execute_input": "2024-11-21T17:47:06.295763Z",
     "iopub.status.busy": "2024-11-21T17:47:06.295359Z",
     "iopub.status.idle": "2024-11-21T17:47:06.303485Z",
     "shell.execute_reply": "2024-11-21T17:47:06.302464Z"
    },
    "papermill": {
     "duration": 0.029389,
     "end_time": "2024-11-21T17:47:06.305476",
     "exception": false,
     "start_time": "2024-11-21T17:47:06.276087",
     "status": "completed"
    },
    "tags": []
   },
   "outputs": [],
   "source": [
    "def prepare_datasets(X, y, train_ratio=train_ratio, val_ratio=val_ratio, batch_size=batch_size, scaler=None):\n",
    "    \n",
    "    if scaler is None:\n",
    "        scaler = StandardScaler() \n",
    "    \n",
    "    X_scaled = scaler.fit_transform(X)\n",
    "\n",
    "    dataset = EEGDataset(X_scaled, y)\n",
    "    \n",
    "    total_size = len(dataset)\n",
    "    train_size = int(train_ratio * total_size) # 70% train\n",
    "    val_size = int(val_ratio * total_size) # 15% val\n",
    "    test_size = total_size - train_size - val_size # 15% test\n",
    "\n",
    "    train_dataset, val_dataset, test_dataset = random_split(\n",
    "        dataset, [train_size, val_size, test_size]\n",
    "    )\n",
    "    \n",
    "    train_loader = DataLoader(train_dataset, batch_size=batch_size, shuffle=True)\n",
    "    val_loader = DataLoader(val_dataset, batch_size=batch_size, shuffle=False)\n",
    "    test_loader = DataLoader(test_dataset, batch_size=batch_size, shuffle=False)\n",
    "    \n",
    "    return {\n",
    "        'datasets': {\n",
    "            'train': train_dataset,\n",
    "            'val': val_dataset,\n",
    "            'test': test_dataset,\n",
    "        },\n",
    "        'loaders': {\n",
    "            'train': train_loader,\n",
    "            'val': val_loader,\n",
    "            'test': test_loader,\n",
    "        },\n",
    "        'X_scaled': X_scaled\n",
    "    }"
   ]
  },
  {
   "cell_type": "code",
   "execution_count": 45,
   "id": "71ce1038",
   "metadata": {
    "execution": {
     "iopub.execute_input": "2024-11-21T17:47:06.343657Z",
     "iopub.status.busy": "2024-11-21T17:47:06.342626Z",
     "iopub.status.idle": "2024-11-21T17:47:06.371495Z",
     "shell.execute_reply": "2024-11-21T17:47:06.370419Z"
    },
    "papermill": {
     "duration": 0.050269,
     "end_time": "2024-11-21T17:47:06.373777",
     "exception": false,
     "start_time": "2024-11-21T17:47:06.323508",
     "status": "completed"
    },
    "tags": []
   },
   "outputs": [
    {
     "data": {
      "text/html": [
       "<div>\n",
       "<style scoped>\n",
       "    .dataframe tbody tr th:only-of-type {\n",
       "        vertical-align: middle;\n",
       "    }\n",
       "\n",
       "    .dataframe tbody tr th {\n",
       "        vertical-align: top;\n",
       "    }\n",
       "\n",
       "    .dataframe thead th {\n",
       "        text-align: right;\n",
       "    }\n",
       "</style>\n",
       "<table border=\"1\" class=\"dataframe\">\n",
       "  <thead>\n",
       "    <tr style=\"text-align: right;\">\n",
       "      <th></th>\n",
       "      <th>age</th>\n",
       "      <th>education</th>\n",
       "      <th>IQ</th>\n",
       "      <th>0</th>\n",
       "      <th>1</th>\n",
       "      <th>2</th>\n",
       "      <th>3</th>\n",
       "      <th>4</th>\n",
       "      <th>5</th>\n",
       "      <th>6</th>\n",
       "      <th>...</th>\n",
       "      <th>213</th>\n",
       "      <th>214</th>\n",
       "      <th>215</th>\n",
       "      <th>216</th>\n",
       "      <th>217</th>\n",
       "      <th>218</th>\n",
       "      <th>219</th>\n",
       "      <th>220</th>\n",
       "      <th>221</th>\n",
       "      <th>222</th>\n",
       "    </tr>\n",
       "  </thead>\n",
       "  <tbody>\n",
       "    <tr>\n",
       "      <th>0</th>\n",
       "      <td>4.060443</td>\n",
       "      <td>2.669913</td>\n",
       "      <td>4.630648</td>\n",
       "      <td>-33.042851</td>\n",
       "      <td>-3.063786</td>\n",
       "      <td>-2.096499</td>\n",
       "      <td>3.570287</td>\n",
       "      <td>-0.582739</td>\n",
       "      <td>6.888249</td>\n",
       "      <td>-2.238154</td>\n",
       "      <td>...</td>\n",
       "      <td>-0.200539</td>\n",
       "      <td>0.106558</td>\n",
       "      <td>0.641835</td>\n",
       "      <td>-0.529035</td>\n",
       "      <td>-0.236362</td>\n",
       "      <td>0.051877</td>\n",
       "      <td>-0.003695</td>\n",
       "      <td>-0.481202</td>\n",
       "      <td>-0.389315</td>\n",
       "      <td>0.982882</td>\n",
       "    </tr>\n",
       "    <tr>\n",
       "      <th>1</th>\n",
       "      <td>3.637586</td>\n",
       "      <td>1.945910</td>\n",
       "      <td>4.795791</td>\n",
       "      <td>-17.184181</td>\n",
       "      <td>-9.714039</td>\n",
       "      <td>-3.544905</td>\n",
       "      <td>-3.734123</td>\n",
       "      <td>4.912577</td>\n",
       "      <td>3.355680</td>\n",
       "      <td>-5.919132</td>\n",
       "      <td>...</td>\n",
       "      <td>-0.665741</td>\n",
       "      <td>0.711784</td>\n",
       "      <td>0.551841</td>\n",
       "      <td>0.237708</td>\n",
       "      <td>-0.256704</td>\n",
       "      <td>0.195837</td>\n",
       "      <td>-0.016307</td>\n",
       "      <td>0.101901</td>\n",
       "      <td>-0.388984</td>\n",
       "      <td>0.146000</td>\n",
       "    </tr>\n",
       "    <tr>\n",
       "      <th>2</th>\n",
       "      <td>3.496508</td>\n",
       "      <td>2.833213</td>\n",
       "      <td>4.736198</td>\n",
       "      <td>-10.041829</td>\n",
       "      <td>14.351104</td>\n",
       "      <td>3.687081</td>\n",
       "      <td>-7.419535</td>\n",
       "      <td>-2.709208</td>\n",
       "      <td>2.544526</td>\n",
       "      <td>-5.907424</td>\n",
       "      <td>...</td>\n",
       "      <td>0.348037</td>\n",
       "      <td>0.544931</td>\n",
       "      <td>0.036988</td>\n",
       "      <td>0.319521</td>\n",
       "      <td>0.192948</td>\n",
       "      <td>0.579618</td>\n",
       "      <td>-0.126388</td>\n",
       "      <td>0.256924</td>\n",
       "      <td>0.368326</td>\n",
       "      <td>-0.156236</td>\n",
       "    </tr>\n",
       "    <tr>\n",
       "      <th>3</th>\n",
       "      <td>3.583519</td>\n",
       "      <td>2.944439</td>\n",
       "      <td>4.844187</td>\n",
       "      <td>-12.310047</td>\n",
       "      <td>0.384884</td>\n",
       "      <td>-6.091814</td>\n",
       "      <td>11.028865</td>\n",
       "      <td>-9.958479</td>\n",
       "      <td>4.958268</td>\n",
       "      <td>-6.029395</td>\n",
       "      <td>...</td>\n",
       "      <td>-0.374859</td>\n",
       "      <td>-0.068000</td>\n",
       "      <td>0.247973</td>\n",
       "      <td>-0.432872</td>\n",
       "      <td>-0.224407</td>\n",
       "      <td>0.691725</td>\n",
       "      <td>0.666539</td>\n",
       "      <td>0.465550</td>\n",
       "      <td>0.111645</td>\n",
       "      <td>0.607769</td>\n",
       "    </tr>\n",
       "    <tr>\n",
       "      <th>4</th>\n",
       "      <td>3.610918</td>\n",
       "      <td>2.833213</td>\n",
       "      <td>4.727388</td>\n",
       "      <td>13.879914</td>\n",
       "      <td>16.328535</td>\n",
       "      <td>-4.590380</td>\n",
       "      <td>7.153627</td>\n",
       "      <td>-2.979485</td>\n",
       "      <td>1.359319</td>\n",
       "      <td>1.137978</td>\n",
       "      <td>...</td>\n",
       "      <td>-0.008164</td>\n",
       "      <td>0.369224</td>\n",
       "      <td>-0.432421</td>\n",
       "      <td>-0.953547</td>\n",
       "      <td>-0.358786</td>\n",
       "      <td>-0.192418</td>\n",
       "      <td>0.266385</td>\n",
       "      <td>-0.013051</td>\n",
       "      <td>0.089995</td>\n",
       "      <td>-0.237033</td>\n",
       "    </tr>\n",
       "    <tr>\n",
       "      <th>...</th>\n",
       "      <td>...</td>\n",
       "      <td>...</td>\n",
       "      <td>...</td>\n",
       "      <td>...</td>\n",
       "      <td>...</td>\n",
       "      <td>...</td>\n",
       "      <td>...</td>\n",
       "      <td>...</td>\n",
       "      <td>...</td>\n",
       "      <td>...</td>\n",
       "      <td>...</td>\n",
       "      <td>...</td>\n",
       "      <td>...</td>\n",
       "      <td>...</td>\n",
       "      <td>...</td>\n",
       "      <td>...</td>\n",
       "      <td>...</td>\n",
       "      <td>...</td>\n",
       "      <td>...</td>\n",
       "      <td>...</td>\n",
       "      <td>...</td>\n",
       "    </tr>\n",
       "    <tr>\n",
       "      <th>1857</th>\n",
       "      <td>3.715534</td>\n",
       "      <td>2.712917</td>\n",
       "      <td>4.696353</td>\n",
       "      <td>-20.735088</td>\n",
       "      <td>-4.485997</td>\n",
       "      <td>-7.125014</td>\n",
       "      <td>4.780817</td>\n",
       "      <td>-7.565263</td>\n",
       "      <td>-3.549165</td>\n",
       "      <td>-0.164748</td>\n",
       "      <td>...</td>\n",
       "      <td>-0.148691</td>\n",
       "      <td>-0.277270</td>\n",
       "      <td>0.400480</td>\n",
       "      <td>-0.120343</td>\n",
       "      <td>0.113988</td>\n",
       "      <td>-0.210004</td>\n",
       "      <td>0.078586</td>\n",
       "      <td>0.319115</td>\n",
       "      <td>0.309346</td>\n",
       "      <td>0.023806</td>\n",
       "    </tr>\n",
       "    <tr>\n",
       "      <th>1858</th>\n",
       "      <td>3.961227</td>\n",
       "      <td>2.563495</td>\n",
       "      <td>4.660979</td>\n",
       "      <td>-26.079875</td>\n",
       "      <td>1.462360</td>\n",
       "      <td>0.572368</td>\n",
       "      <td>-4.696177</td>\n",
       "      <td>-3.698793</td>\n",
       "      <td>-0.850575</td>\n",
       "      <td>-2.744517</td>\n",
       "      <td>...</td>\n",
       "      <td>-0.062743</td>\n",
       "      <td>0.273193</td>\n",
       "      <td>0.331980</td>\n",
       "      <td>0.173799</td>\n",
       "      <td>0.305168</td>\n",
       "      <td>0.520792</td>\n",
       "      <td>0.074347</td>\n",
       "      <td>0.221687</td>\n",
       "      <td>-0.026072</td>\n",
       "      <td>0.407858</td>\n",
       "    </tr>\n",
       "    <tr>\n",
       "      <th>1859</th>\n",
       "      <td>3.200437</td>\n",
       "      <td>2.596631</td>\n",
       "      <td>4.616117</td>\n",
       "      <td>-25.328717</td>\n",
       "      <td>-3.737956</td>\n",
       "      <td>-2.996258</td>\n",
       "      <td>10.100057</td>\n",
       "      <td>-0.803384</td>\n",
       "      <td>6.756863</td>\n",
       "      <td>-3.816019</td>\n",
       "      <td>...</td>\n",
       "      <td>0.018107</td>\n",
       "      <td>-0.253142</td>\n",
       "      <td>-0.250272</td>\n",
       "      <td>-0.800801</td>\n",
       "      <td>-0.432494</td>\n",
       "      <td>0.192064</td>\n",
       "      <td>0.297594</td>\n",
       "      <td>0.230052</td>\n",
       "      <td>0.304938</td>\n",
       "      <td>-0.373849</td>\n",
       "    </tr>\n",
       "    <tr>\n",
       "      <th>1860</th>\n",
       "      <td>3.574768</td>\n",
       "      <td>2.637718</td>\n",
       "      <td>4.624250</td>\n",
       "      <td>-20.758973</td>\n",
       "      <td>0.908961</td>\n",
       "      <td>7.110991</td>\n",
       "      <td>10.521322</td>\n",
       "      <td>5.393746</td>\n",
       "      <td>-7.898943</td>\n",
       "      <td>-1.907898</td>\n",
       "      <td>...</td>\n",
       "      <td>-0.160031</td>\n",
       "      <td>0.700907</td>\n",
       "      <td>0.084315</td>\n",
       "      <td>-0.057536</td>\n",
       "      <td>-0.516951</td>\n",
       "      <td>-0.037638</td>\n",
       "      <td>0.172591</td>\n",
       "      <td>-0.466866</td>\n",
       "      <td>-0.592845</td>\n",
       "      <td>-0.088182</td>\n",
       "    </tr>\n",
       "    <tr>\n",
       "      <th>1861</th>\n",
       "      <td>3.056663</td>\n",
       "      <td>2.639057</td>\n",
       "      <td>4.340899</td>\n",
       "      <td>30.031617</td>\n",
       "      <td>-2.981938</td>\n",
       "      <td>11.918717</td>\n",
       "      <td>3.587149</td>\n",
       "      <td>0.847654</td>\n",
       "      <td>6.350979</td>\n",
       "      <td>-4.214372</td>\n",
       "      <td>...</td>\n",
       "      <td>0.114961</td>\n",
       "      <td>-0.397047</td>\n",
       "      <td>-0.432123</td>\n",
       "      <td>0.592937</td>\n",
       "      <td>0.092943</td>\n",
       "      <td>0.285520</td>\n",
       "      <td>0.243967</td>\n",
       "      <td>-0.114155</td>\n",
       "      <td>0.545389</td>\n",
       "      <td>0.047492</td>\n",
       "    </tr>\n",
       "  </tbody>\n",
       "</table>\n",
       "<p>1862 rows × 226 columns</p>\n",
       "</div>"
      ],
      "text/plain": [
       "           age  education        IQ          0          1          2  \\\n",
       "0     4.060443   2.669913  4.630648 -33.042851  -3.063786  -2.096499   \n",
       "1     3.637586   1.945910  4.795791 -17.184181  -9.714039  -3.544905   \n",
       "2     3.496508   2.833213  4.736198 -10.041829  14.351104   3.687081   \n",
       "3     3.583519   2.944439  4.844187 -12.310047   0.384884  -6.091814   \n",
       "4     3.610918   2.833213  4.727388  13.879914  16.328535  -4.590380   \n",
       "...        ...        ...       ...        ...        ...        ...   \n",
       "1857  3.715534   2.712917  4.696353 -20.735088  -4.485997  -7.125014   \n",
       "1858  3.961227   2.563495  4.660979 -26.079875   1.462360   0.572368   \n",
       "1859  3.200437   2.596631  4.616117 -25.328717  -3.737956  -2.996258   \n",
       "1860  3.574768   2.637718  4.624250 -20.758973   0.908961   7.110991   \n",
       "1861  3.056663   2.639057  4.340899  30.031617  -2.981938  11.918717   \n",
       "\n",
       "              3         4         5         6  ...       213       214  \\\n",
       "0      3.570287 -0.582739  6.888249 -2.238154  ... -0.200539  0.106558   \n",
       "1     -3.734123  4.912577  3.355680 -5.919132  ... -0.665741  0.711784   \n",
       "2     -7.419535 -2.709208  2.544526 -5.907424  ...  0.348037  0.544931   \n",
       "3     11.028865 -9.958479  4.958268 -6.029395  ... -0.374859 -0.068000   \n",
       "4      7.153627 -2.979485  1.359319  1.137978  ... -0.008164  0.369224   \n",
       "...         ...       ...       ...       ...  ...       ...       ...   \n",
       "1857   4.780817 -7.565263 -3.549165 -0.164748  ... -0.148691 -0.277270   \n",
       "1858  -4.696177 -3.698793 -0.850575 -2.744517  ... -0.062743  0.273193   \n",
       "1859  10.100057 -0.803384  6.756863 -3.816019  ...  0.018107 -0.253142   \n",
       "1860  10.521322  5.393746 -7.898943 -1.907898  ... -0.160031  0.700907   \n",
       "1861   3.587149  0.847654  6.350979 -4.214372  ...  0.114961 -0.397047   \n",
       "\n",
       "           215       216       217       218       219       220       221  \\\n",
       "0     0.641835 -0.529035 -0.236362  0.051877 -0.003695 -0.481202 -0.389315   \n",
       "1     0.551841  0.237708 -0.256704  0.195837 -0.016307  0.101901 -0.388984   \n",
       "2     0.036988  0.319521  0.192948  0.579618 -0.126388  0.256924  0.368326   \n",
       "3     0.247973 -0.432872 -0.224407  0.691725  0.666539  0.465550  0.111645   \n",
       "4    -0.432421 -0.953547 -0.358786 -0.192418  0.266385 -0.013051  0.089995   \n",
       "...        ...       ...       ...       ...       ...       ...       ...   \n",
       "1857  0.400480 -0.120343  0.113988 -0.210004  0.078586  0.319115  0.309346   \n",
       "1858  0.331980  0.173799  0.305168  0.520792  0.074347  0.221687 -0.026072   \n",
       "1859 -0.250272 -0.800801 -0.432494  0.192064  0.297594  0.230052  0.304938   \n",
       "1860  0.084315 -0.057536 -0.516951 -0.037638  0.172591 -0.466866 -0.592845   \n",
       "1861 -0.432123  0.592937  0.092943  0.285520  0.243967 -0.114155  0.545389   \n",
       "\n",
       "           222  \n",
       "0     0.982882  \n",
       "1     0.146000  \n",
       "2    -0.156236  \n",
       "3     0.607769  \n",
       "4    -0.237033  \n",
       "...        ...  \n",
       "1857  0.023806  \n",
       "1858  0.407858  \n",
       "1859 -0.373849  \n",
       "1860 -0.088182  \n",
       "1861  0.047492  \n",
       "\n",
       "[1862 rows x 226 columns]"
      ]
     },
     "execution_count": 45,
     "metadata": {},
     "output_type": "execute_result"
    }
   ],
   "source": [
    "X_pca_99_quanti = pd.concat([X_2, pd.DataFrame(X_pca_99)], axis=1)\n",
    "X_pca_99_quanti.columns = X_pca_99_quanti.columns.astype(str)\n",
    "X_pca_99_quanti"
   ]
  },
  {
   "cell_type": "code",
   "execution_count": 46,
   "id": "3b18f71d",
   "metadata": {
    "execution": {
     "iopub.execute_input": "2024-11-21T17:47:06.41227Z",
     "iopub.status.busy": "2024-11-21T17:47:06.41188Z",
     "iopub.status.idle": "2024-11-21T17:47:06.477881Z",
     "shell.execute_reply": "2024-11-21T17:47:06.476783Z"
    },
    "papermill": {
     "duration": 0.088147,
     "end_time": "2024-11-21T17:47:06.4805",
     "exception": false,
     "start_time": "2024-11-21T17:47:06.392353",
     "status": "completed"
    },
    "tags": []
   },
   "outputs": [],
   "source": [
    "# X_top_resampled, y_top_resampled \n",
    "# X_2_top_resampled, y_2_top_resampled \n",
    "\n",
    "# X_all_features_resampled, y_all_features_resampled \n",
    "# X_2_all_features_resampled, y_2_top_resampled \n",
    "\n",
    "data = prepare_datasets(X_pca_99_quanti, y_all_features_resampled, scaler=scaler)\n",
    "\n",
    "train_dataset = data['datasets']['train']\n",
    "val_dataset = data['datasets']['val']\n",
    "test_dataset = data['datasets']['test']\n",
    "\n",
    "train_loader = data['loaders']['train']\n",
    "val_loader = data['loaders']['val']\n",
    "test_loader = data['loaders']['test']\n",
    "\n",
    "X_scaled = data['X_scaled']"
   ]
  },
  {
   "cell_type": "code",
   "execution_count": 47,
   "id": "ddd37e98",
   "metadata": {
    "execution": {
     "iopub.execute_input": "2024-11-21T17:47:06.521463Z",
     "iopub.status.busy": "2024-11-21T17:47:06.520669Z",
     "iopub.status.idle": "2024-11-21T17:47:06.526105Z",
     "shell.execute_reply": "2024-11-21T17:47:06.525123Z"
    },
    "papermill": {
     "duration": 0.030441,
     "end_time": "2024-11-21T17:47:06.529065",
     "exception": false,
     "start_time": "2024-11-21T17:47:06.498624",
     "status": "completed"
    },
    "tags": []
   },
   "outputs": [
    {
     "name": "stdout",
     "output_type": "stream",
     "text": [
      "Train size: 1303\n",
      "Validation size: 279\n",
      "Test size: 280\n",
      "X_scaled: 226\n"
     ]
    }
   ],
   "source": [
    "print(f\"Train size: {len(train_dataset)}\")\n",
    "print(f\"Validation size: {len(val_dataset)}\")\n",
    "print(f\"Test size: {len(test_dataset)}\")\n",
    "print(f'X_scaled: {X_scaled.shape[1]}')"
   ]
  },
  {
   "cell_type": "markdown",
   "id": "63be836b",
   "metadata": {
    "papermill": {
     "duration": 0.018615,
     "end_time": "2024-11-21T17:47:06.566511",
     "exception": false,
     "start_time": "2024-11-21T17:47:06.547896",
     "status": "completed"
    },
    "tags": []
   },
   "source": [
    "## Neural network architecture"
   ]
  },
  {
   "cell_type": "code",
   "execution_count": 48,
   "id": "7af0ea59",
   "metadata": {
    "execution": {
     "iopub.execute_input": "2024-11-21T17:47:06.605178Z",
     "iopub.status.busy": "2024-11-21T17:47:06.604758Z",
     "iopub.status.idle": "2024-11-21T17:47:06.616393Z",
     "shell.execute_reply": "2024-11-21T17:47:06.615232Z"
    },
    "papermill": {
     "duration": 0.033621,
     "end_time": "2024-11-21T17:47:06.618673",
     "exception": false,
     "start_time": "2024-11-21T17:47:06.585052",
     "status": "completed"
    },
    "tags": []
   },
   "outputs": [],
   "source": [
    "class EEGClassifier(nn.Module):\n",
    "    def __init__(self, input_dim, output_dim, neurons, dropout=0.10):\n",
    "        super(EEGClassifier, self).__init__()\n",
    "        \n",
    "        self.layer1 = nn.Linear(input_dim, neurons[0])\n",
    "        self.layer2 = nn.Linear(neurons[0], neurons[1])\n",
    "        self.layer3 = nn.Linear(neurons[1], neurons[2])\n",
    "        self.layer4 = nn.Linear(neurons[2], neurons[3])\n",
    "        self.layer5 = nn.Linear(neurons[3], neurons[4])\n",
    "        self.output_layer = nn.Linear(neurons[4], output_dim)\n",
    "\n",
    "        self.bn1 = nn.BatchNorm1d(neurons[0])\n",
    "        self.bn2 = nn.BatchNorm1d(neurons[1])\n",
    "        self.bn3 = nn.BatchNorm1d(neurons[2])\n",
    "        self.bn4 = nn.BatchNorm1d(neurons[3])\n",
    "        self.bn5 = nn.BatchNorm1d(neurons[4])\n",
    "\n",
    "        self.gelu = nn.GELU()\n",
    "\n",
    "        self.dropout = nn.Dropout(p=dropout)\n",
    "        \n",
    "        init.xavier_uniform_(self.layer1.weight)\n",
    "        init.xavier_uniform_(self.layer2.weight)\n",
    "        init.xavier_uniform_(self.layer3.weight)\n",
    "        init.xavier_uniform_(self.layer4.weight)\n",
    "        init.xavier_uniform_(self.layer5.weight)\n",
    "        init.xavier_uniform_(self.output_layer.weight)\n",
    "\n",
    "    def forward(self, x):\n",
    "        x = self.gelu(self.bn1(self.layer1(x))) \n",
    "        x = self.dropout(x)\n",
    "        \n",
    "        x = self.gelu(self.bn2(self.layer2(x)))\n",
    "        x = self.dropout(x)\n",
    "        \n",
    "        x = self.gelu(self.bn3(self.layer3(x)))\n",
    "        x = self.dropout(x)\n",
    "        \n",
    "        x = self.gelu(self.bn4(self.layer4(x)))\n",
    "        x = self.dropout(x)\n",
    "        \n",
    "        x = self.gelu(self.bn5(self.layer5(x)))\n",
    "        \n",
    "        x = self.output_layer(x)\n",
    "        \n",
    "        return x"
   ]
  },
  {
   "cell_type": "code",
   "execution_count": 49,
   "id": "2b20ef86",
   "metadata": {
    "execution": {
     "iopub.execute_input": "2024-11-21T17:47:06.656869Z",
     "iopub.status.busy": "2024-11-21T17:47:06.656467Z",
     "iopub.status.idle": "2024-11-21T17:47:06.662239Z",
     "shell.execute_reply": "2024-11-21T17:47:06.661223Z"
    },
    "papermill": {
     "duration": 0.0272,
     "end_time": "2024-11-21T17:47:06.664224",
     "exception": false,
     "start_time": "2024-11-21T17:47:06.637024",
     "status": "completed"
    },
    "tags": []
   },
   "outputs": [],
   "source": [
    "# choice of neuron set\n",
    "\n",
    "selected_neurons = []\n",
    "\n",
    "def select_neurons(input_dim):\n",
    "    if input_dim <= 114:\n",
    "        selected_neurons = neurons4\n",
    "        \n",
    "    elif input_dim <= 120:\n",
    "        selected_neurons = neurons4\n",
    "    \n",
    "    elif input_dim <= 250:\n",
    "        selected_neurons = neurons1\n",
    "        \n",
    "    elif input_dim <= 1140:\n",
    "        selected_neurons = neurons1\n",
    "        \n",
    "    else:\n",
    "        selected_neurons = neurons \n",
    "\n",
    "    return selected_neurons"
   ]
  },
  {
   "cell_type": "code",
   "execution_count": 50,
   "id": "0e3258fd",
   "metadata": {
    "execution": {
     "iopub.execute_input": "2024-11-21T17:47:06.703077Z",
     "iopub.status.busy": "2024-11-21T17:47:06.702048Z",
     "iopub.status.idle": "2024-11-21T17:47:06.708735Z",
     "shell.execute_reply": "2024-11-21T17:47:06.707883Z"
    },
    "papermill": {
     "duration": 0.028359,
     "end_time": "2024-11-21T17:47:06.710768",
     "exception": false,
     "start_time": "2024-11-21T17:47:06.682409",
     "status": "completed"
    },
    "tags": []
   },
   "outputs": [
    {
     "data": {
      "text/plain": [
       "(226, [1024, 512, 256, 128, 64])"
      ]
     },
     "execution_count": 50,
     "metadata": {},
     "output_type": "execute_result"
    }
   ],
   "source": [
    "input_dim = X_scaled.shape[1]\n",
    "selected_neurons = select_neurons(input_dim)\n",
    "\n",
    "input_dim, selected_neurons"
   ]
  },
  {
   "cell_type": "markdown",
   "id": "3a2c79f2",
   "metadata": {
    "papermill": {
     "duration": 0.018133,
     "end_time": "2024-11-21T17:47:06.748264",
     "exception": false,
     "start_time": "2024-11-21T17:47:06.730131",
     "status": "completed"
    },
    "tags": []
   },
   "source": [
    "### Network summary"
   ]
  },
  {
   "cell_type": "code",
   "execution_count": 51,
   "id": "ac9cc5f7",
   "metadata": {
    "execution": {
     "iopub.execute_input": "2024-11-21T17:47:06.786847Z",
     "iopub.status.busy": "2024-11-21T17:47:06.786443Z",
     "iopub.status.idle": "2024-11-21T17:47:06.830269Z",
     "shell.execute_reply": "2024-11-21T17:47:06.829173Z"
    },
    "papermill": {
     "duration": 0.065954,
     "end_time": "2024-11-21T17:47:06.83277",
     "exception": false,
     "start_time": "2024-11-21T17:47:06.766816",
     "status": "completed"
    },
    "tags": []
   },
   "outputs": [
    {
     "name": "stdout",
     "output_type": "stream",
     "text": [
      "EEGClassifier(\n",
      "  (layer1): Linear(in_features=226, out_features=1024, bias=True)\n",
      "  (layer2): Linear(in_features=1024, out_features=512, bias=True)\n",
      "  (layer3): Linear(in_features=512, out_features=256, bias=True)\n",
      "  (layer4): Linear(in_features=256, out_features=128, bias=True)\n",
      "  (layer5): Linear(in_features=128, out_features=64, bias=True)\n",
      "  (output_layer): Linear(in_features=64, out_features=7, bias=True)\n",
      "  (bn1): BatchNorm1d(1024, eps=1e-05, momentum=0.1, affine=True, track_running_stats=True)\n",
      "  (bn2): BatchNorm1d(512, eps=1e-05, momentum=0.1, affine=True, track_running_stats=True)\n",
      "  (bn3): BatchNorm1d(256, eps=1e-05, momentum=0.1, affine=True, track_running_stats=True)\n",
      "  (bn4): BatchNorm1d(128, eps=1e-05, momentum=0.1, affine=True, track_running_stats=True)\n",
      "  (bn5): BatchNorm1d(64, eps=1e-05, momentum=0.1, affine=True, track_running_stats=True)\n",
      "  (gelu): GELU(approximate='none')\n",
      "  (dropout): Dropout(p=0.1, inplace=False)\n",
      ")\n",
      "226\n",
      "7\n"
     ]
    }
   ],
   "source": [
    "model = EEGClassifier(input_dim, output_dim, selected_neurons, dropout)\n",
    "print(f'{model}\\n{input_dim}\\n{output_dim}')"
   ]
  },
  {
   "cell_type": "code",
   "execution_count": 52,
   "id": "bdcda46f",
   "metadata": {
    "execution": {
     "iopub.execute_input": "2024-11-21T17:47:06.871239Z",
     "iopub.status.busy": "2024-11-21T17:47:06.870803Z",
     "iopub.status.idle": "2024-11-21T17:47:06.966878Z",
     "shell.execute_reply": "2024-11-21T17:47:06.965656Z"
    },
    "papermill": {
     "duration": 0.118153,
     "end_time": "2024-11-21T17:47:06.969396",
     "exception": false,
     "start_time": "2024-11-21T17:47:06.851243",
     "status": "completed"
    },
    "tags": []
   },
   "outputs": [
    {
     "name": "stdout",
     "output_type": "stream",
     "text": [
      "----------------------------------------------------------------\n",
      "        Layer (type)               Output Shape         Param #\n",
      "================================================================\n",
      "            Linear-1                 [-1, 1024]         232,448\n",
      "       BatchNorm1d-2                 [-1, 1024]           2,048\n",
      "              GELU-3                 [-1, 1024]               0\n",
      "           Dropout-4                 [-1, 1024]               0\n",
      "            Linear-5                  [-1, 512]         524,800\n",
      "       BatchNorm1d-6                  [-1, 512]           1,024\n",
      "              GELU-7                  [-1, 512]               0\n",
      "           Dropout-8                  [-1, 512]               0\n",
      "            Linear-9                  [-1, 256]         131,328\n",
      "      BatchNorm1d-10                  [-1, 256]             512\n",
      "             GELU-11                  [-1, 256]               0\n",
      "          Dropout-12                  [-1, 256]               0\n",
      "           Linear-13                  [-1, 128]          32,896\n",
      "      BatchNorm1d-14                  [-1, 128]             256\n",
      "             GELU-15                  [-1, 128]               0\n",
      "          Dropout-16                  [-1, 128]               0\n",
      "           Linear-17                   [-1, 64]           8,256\n",
      "      BatchNorm1d-18                   [-1, 64]             128\n",
      "             GELU-19                   [-1, 64]               0\n",
      "           Linear-20                    [-1, 7]             455\n",
      "================================================================\n",
      "Total params: 934,151\n",
      "Trainable params: 934,151\n",
      "Non-trainable params: 0\n",
      "----------------------------------------------------------------\n",
      "Input size (MB): 0.00\n",
      "Forward/backward pass size (MB): 0.06\n",
      "Params size (MB): 3.56\n",
      "Estimated Total Size (MB): 3.62\n",
      "----------------------------------------------------------------\n"
     ]
    }
   ],
   "source": [
    "summary(model, input_size=(input_dim, ))"
   ]
  },
  {
   "cell_type": "markdown",
   "id": "ae3af449",
   "metadata": {
    "papermill": {
     "duration": 0.018662,
     "end_time": "2024-11-21T17:47:07.007289",
     "exception": false,
     "start_time": "2024-11-21T17:47:06.988627",
     "status": "completed"
    },
    "tags": []
   },
   "source": [
    "### Network graph"
   ]
  },
  {
   "cell_type": "code",
   "execution_count": 53,
   "id": "55955132",
   "metadata": {
    "execution": {
     "iopub.execute_input": "2024-11-21T17:47:07.047971Z",
     "iopub.status.busy": "2024-11-21T17:47:07.046947Z",
     "iopub.status.idle": "2024-11-21T17:47:07.523264Z",
     "shell.execute_reply": "2024-11-21T17:47:07.522096Z"
    },
    "papermill": {
     "duration": 0.499143,
     "end_time": "2024-11-21T17:47:07.525537",
     "exception": false,
     "start_time": "2024-11-21T17:47:07.026394",
     "status": "completed"
    },
    "tags": []
   },
   "outputs": [
    {
     "data": {
      "text/html": [
       "<a href='eeg_classifier.png' target='_blank'>eeg_classifier.png</a><br>"
      ],
      "text/plain": [
       "/kaggle/working/eeg_classifier.png"
      ]
     },
     "execution_count": 53,
     "metadata": {},
     "output_type": "execute_result"
    }
   ],
   "source": [
    "model.eval()\n",
    "\n",
    "sample_input = torch.randn(1, input_dim)  \n",
    "\n",
    "output = model(sample_input)\n",
    "graph = make_dot(output, params=dict(model.named_parameters()))\n",
    "\n",
    "graph.render(\"eeg_classifier\", format=\"png\")\n",
    "\n",
    "file_path = \"eeg_classifier.png\"\n",
    "\n",
    "FileLink(file_path)"
   ]
  },
  {
   "cell_type": "code",
   "execution_count": 54,
   "id": "5c125ee1",
   "metadata": {
    "execution": {
     "iopub.execute_input": "2024-11-21T17:47:07.564855Z",
     "iopub.status.busy": "2024-11-21T17:47:07.564472Z",
     "iopub.status.idle": "2024-11-21T17:47:07.572191Z",
     "shell.execute_reply": "2024-11-21T17:47:07.571048Z"
    },
    "papermill": {
     "duration": 0.029968,
     "end_time": "2024-11-21T17:47:07.574265",
     "exception": false,
     "start_time": "2024-11-21T17:47:07.544297",
     "status": "completed"
    },
    "tags": []
   },
   "outputs": [],
   "source": [
    "%%capture\n",
    "# class balancing alternative\n",
    "\n",
    "total_samples = sum([266, 186, 128, 117, 107, 95, 46])\n",
    "class_frequencies = [266, 186, 128, 117, 107, 95, 46]\n",
    "class_weights = [total_samples / f for f in class_frequencies]\n",
    "\n",
    "class_weights = torch.tensor(class_weights, dtype=torch.float32)"
   ]
  },
  {
   "cell_type": "markdown",
   "id": "38998149",
   "metadata": {
    "papermill": {
     "duration": 0.018624,
     "end_time": "2024-11-21T17:47:07.611871",
     "exception": false,
     "start_time": "2024-11-21T17:47:07.593247",
     "status": "completed"
    },
    "tags": []
   },
   "source": [
    "### Criterion, optimizer and scheduler"
   ]
  },
  {
   "cell_type": "code",
   "execution_count": 55,
   "id": "c890ea24",
   "metadata": {
    "execution": {
     "iopub.execute_input": "2024-11-21T17:47:07.651779Z",
     "iopub.status.busy": "2024-11-21T17:47:07.651375Z",
     "iopub.status.idle": "2024-11-21T17:47:09.148404Z",
     "shell.execute_reply": "2024-11-21T17:47:09.147378Z"
    },
    "papermill": {
     "duration": 1.519522,
     "end_time": "2024-11-21T17:47:09.150798",
     "exception": false,
     "start_time": "2024-11-21T17:47:07.631276",
     "status": "completed"
    },
    "tags": []
   },
   "outputs": [],
   "source": [
    "criterion = nn.CrossEntropyLoss()\n",
    "\n",
    "optimizer = optim.Adam(model.parameters(), \n",
    "                       lr=learning_rate,\n",
    "                       weight_decay=1e-5)\n",
    "\n",
    "scheduler = ReduceLROnPlateau(optimizer, \n",
    "                              mode='min', \n",
    "                              factor = 0.1, \n",
    "                              patience = 3, \n",
    "                              min_lr = 1e-6, \n",
    "                              verbose = True)"
   ]
  },
  {
   "cell_type": "code",
   "execution_count": 56,
   "id": "3e19ed2f",
   "metadata": {
    "execution": {
     "iopub.execute_input": "2024-11-21T17:47:09.190495Z",
     "iopub.status.busy": "2024-11-21T17:47:09.18989Z",
     "iopub.status.idle": "2024-11-21T17:47:09.197229Z",
     "shell.execute_reply": "2024-11-21T17:47:09.196177Z"
    },
    "papermill": {
     "duration": 0.029358,
     "end_time": "2024-11-21T17:47:09.199246",
     "exception": false,
     "start_time": "2024-11-21T17:47:09.169888",
     "status": "completed"
    },
    "tags": []
   },
   "outputs": [
    {
     "data": {
      "text/plain": [
       "('CrossEntropyLoss', 'Adam')"
      ]
     },
     "execution_count": 56,
     "metadata": {},
     "output_type": "execute_result"
    }
   ],
   "source": [
    "name_criterion = type(criterion).__name__\n",
    "name_optimizer = type(optimizer).__name__\n",
    "\n",
    "name_criterion, name_optimizer"
   ]
  },
  {
   "cell_type": "markdown",
   "id": "8d3839b3",
   "metadata": {
    "papermill": {
     "duration": 0.018783,
     "end_time": "2024-11-21T17:47:09.236823",
     "exception": false,
     "start_time": "2024-11-21T17:47:09.21804",
     "status": "completed"
    },
    "tags": []
   },
   "source": [
    "## Training"
   ]
  },
  {
   "cell_type": "code",
   "execution_count": 57,
   "id": "51f73e13",
   "metadata": {
    "execution": {
     "iopub.execute_input": "2024-11-21T17:47:09.276477Z",
     "iopub.status.busy": "2024-11-21T17:47:09.275519Z",
     "iopub.status.idle": "2024-11-21T17:48:17.868902Z",
     "shell.execute_reply": "2024-11-21T17:48:17.867839Z"
    },
    "papermill": {
     "duration": 68.615901,
     "end_time": "2024-11-21T17:48:17.871276",
     "exception": false,
     "start_time": "2024-11-21T17:47:09.255375",
     "status": "completed"
    },
    "tags": []
   },
   "outputs": [
    {
     "name": "stdout",
     "output_type": "stream",
     "text": [
      "Epoch [1/500], Loss: 2.1853\n",
      "Validation Loss: 2.0542, Validation Accuracy: 0.1833\n",
      "\n",
      "Epoch [2/500], Loss: 2.1584\n",
      "Validation Loss: 2.0218, Validation Accuracy: 0.1846\n",
      "\n",
      "Epoch [3/500], Loss: 2.0706\n",
      "Validation Loss: 1.9958, Validation Accuracy: 0.2298\n",
      "\n",
      "Epoch [4/500], Loss: 2.0832\n",
      "Validation Loss: 1.9765, Validation Accuracy: 0.2443\n",
      "\n",
      "Epoch [5/500], Loss: 2.0133\n",
      "Validation Loss: 1.9437, Validation Accuracy: 0.2637\n",
      "\n",
      "Epoch [6/500], Loss: 1.9518\n",
      "Validation Loss: 1.9212, Validation Accuracy: 0.2637\n",
      "\n",
      "Epoch [7/500], Loss: 1.9541\n",
      "Validation Loss: 1.9067, Validation Accuracy: 0.2742\n",
      "\n",
      "Epoch [8/500], Loss: 1.8954\n",
      "Validation Loss: 1.8791, Validation Accuracy: 0.2998\n",
      "\n",
      "Epoch [9/500], Loss: 1.8787\n",
      "Validation Loss: 1.8596, Validation Accuracy: 0.2998\n",
      "\n",
      "Epoch [10/500], Loss: 1.8192\n",
      "Validation Loss: 1.8378, Validation Accuracy: 0.3380\n",
      "\n",
      "Epoch [11/500], Loss: 1.8560\n",
      "Validation Loss: 1.8214, Validation Accuracy: 0.3367\n",
      "\n",
      "Epoch [12/500], Loss: 1.7885\n",
      "Validation Loss: 1.8035, Validation Accuracy: 0.3484\n",
      "\n",
      "Epoch [13/500], Loss: 1.7598\n",
      "Validation Loss: 1.7759, Validation Accuracy: 0.3762\n",
      "\n",
      "Epoch [14/500], Loss: 1.7509\n",
      "Validation Loss: 1.7728, Validation Accuracy: 0.3498\n",
      "\n",
      "Epoch [15/500], Loss: 1.7018\n",
      "Validation Loss: 1.7442, Validation Accuracy: 0.3859\n",
      "\n",
      "Epoch [16/500], Loss: 1.6704\n",
      "Validation Loss: 1.7265, Validation Accuracy: 0.3893\n",
      "\n",
      "Epoch [17/500], Loss: 1.6419\n",
      "Validation Loss: 1.7225, Validation Accuracy: 0.3915\n",
      "\n",
      "Epoch [18/500], Loss: 1.6334\n",
      "Validation Loss: 1.7007, Validation Accuracy: 0.4067\n",
      "\n",
      "Epoch [19/500], Loss: 1.5822\n",
      "Validation Loss: 1.6758, Validation Accuracy: 0.3949\n",
      "\n",
      "Epoch [20/500], Loss: 1.5688\n",
      "Validation Loss: 1.6455, Validation Accuracy: 0.4310\n",
      "\n",
      "Epoch [21/500], Loss: 1.5391\n",
      "Validation Loss: 1.6460, Validation Accuracy: 0.4310\n",
      "\n",
      "Epoch [22/500], Loss: 1.5331\n",
      "Validation Loss: 1.6368, Validation Accuracy: 0.4345\n",
      "\n",
      "Epoch [23/500], Loss: 1.4946\n",
      "Validation Loss: 1.6176, Validation Accuracy: 0.4484\n",
      "\n",
      "Epoch [24/500], Loss: 1.4642\n",
      "Validation Loss: 1.6150, Validation Accuracy: 0.4449\n",
      "\n",
      "Epoch [25/500], Loss: 1.4541\n",
      "Validation Loss: 1.5928, Validation Accuracy: 0.4588\n",
      "\n",
      "Epoch [26/500], Loss: 1.4135\n",
      "Validation Loss: 1.5693, Validation Accuracy: 0.4449\n",
      "\n",
      "Epoch [27/500], Loss: 1.4008\n",
      "Validation Loss: 1.5676, Validation Accuracy: 0.4657\n",
      "\n",
      "Epoch [28/500], Loss: 1.3762\n",
      "Validation Loss: 1.5546, Validation Accuracy: 0.4623\n",
      "\n",
      "Epoch [29/500], Loss: 1.3756\n",
      "Validation Loss: 1.5421, Validation Accuracy: 0.4817\n",
      "\n",
      "Epoch [30/500], Loss: 1.3437\n",
      "Validation Loss: 1.5218, Validation Accuracy: 0.5053\n",
      "\n",
      "Epoch [31/500], Loss: 1.3084\n",
      "Validation Loss: 1.5112, Validation Accuracy: 0.4935\n",
      "\n",
      "Epoch [32/500], Loss: 1.3057\n",
      "Validation Loss: 1.5073, Validation Accuracy: 0.4983\n",
      "\n",
      "Epoch [33/500], Loss: 1.2664\n",
      "Validation Loss: 1.4980, Validation Accuracy: 0.5157\n",
      "\n",
      "Epoch [34/500], Loss: 1.2683\n",
      "Validation Loss: 1.4845, Validation Accuracy: 0.5088\n",
      "\n",
      "Epoch [35/500], Loss: 1.2469\n",
      "Validation Loss: 1.4781, Validation Accuracy: 0.5192\n",
      "\n",
      "Epoch [36/500], Loss: 1.2231\n",
      "Validation Loss: 1.4447, Validation Accuracy: 0.5504\n",
      "\n",
      "Epoch [37/500], Loss: 1.1891\n",
      "Validation Loss: 1.4438, Validation Accuracy: 0.5365\n",
      "\n",
      "Epoch [38/500], Loss: 1.2120\n",
      "Validation Loss: 1.4402, Validation Accuracy: 0.5400\n",
      "\n",
      "Epoch [39/500], Loss: 1.1674\n",
      "Validation Loss: 1.4393, Validation Accuracy: 0.5435\n",
      "\n",
      "Epoch [40/500], Loss: 1.1823\n",
      "Validation Loss: 1.4076, Validation Accuracy: 0.5518\n",
      "\n",
      "Epoch [41/500], Loss: 1.1492\n",
      "Validation Loss: 1.4008, Validation Accuracy: 0.5713\n",
      "\n",
      "Epoch [42/500], Loss: 1.1310\n",
      "Validation Loss: 1.3961, Validation Accuracy: 0.5622\n",
      "\n",
      "Epoch [43/500], Loss: 1.0966\n",
      "Validation Loss: 1.3727, Validation Accuracy: 0.5796\n",
      "\n",
      "Epoch [44/500], Loss: 1.0864\n",
      "Validation Loss: 1.3530, Validation Accuracy: 0.5796\n",
      "\n",
      "Epoch [45/500], Loss: 1.0907\n",
      "Validation Loss: 1.3545, Validation Accuracy: 0.5726\n",
      "\n",
      "Epoch [46/500], Loss: 1.0782\n",
      "Validation Loss: 1.3399, Validation Accuracy: 0.5900\n",
      "\n",
      "Epoch [47/500], Loss: 1.0407\n",
      "Validation Loss: 1.3373, Validation Accuracy: 0.5830\n",
      "\n",
      "Epoch [48/500], Loss: 1.0297\n",
      "Validation Loss: 1.3280, Validation Accuracy: 0.5969\n",
      "\n",
      "Epoch [49/500], Loss: 1.0087\n",
      "Validation Loss: 1.3245, Validation Accuracy: 0.6039\n",
      "\n",
      "Epoch [50/500], Loss: 1.0149\n",
      "Validation Loss: 1.3052, Validation Accuracy: 0.5830\n",
      "\n",
      "Epoch [51/500], Loss: 0.9730\n",
      "Validation Loss: 1.2771, Validation Accuracy: 0.6351\n",
      "\n",
      "Epoch [52/500], Loss: 0.9670\n",
      "Validation Loss: 1.2881, Validation Accuracy: 0.6178\n",
      "\n",
      "Epoch [53/500], Loss: 0.9684\n",
      "Validation Loss: 1.2896, Validation Accuracy: 0.6004\n",
      "\n",
      "Epoch [54/500], Loss: 0.9531\n",
      "Validation Loss: 1.2792, Validation Accuracy: 0.6039\n",
      "\n",
      "Epoch [55/500], Loss: 0.9383\n",
      "Validation Loss: 1.2757, Validation Accuracy: 0.6178\n",
      "\n",
      "Epoch [56/500], Loss: 0.8907\n",
      "Validation Loss: 1.2618, Validation Accuracy: 0.6421\n",
      "\n",
      "Epoch [57/500], Loss: 0.8953\n",
      "Validation Loss: 1.2336, Validation Accuracy: 0.6594\n",
      "\n",
      "Epoch [58/500], Loss: 0.8949\n",
      "Validation Loss: 1.2170, Validation Accuracy: 0.6594\n",
      "\n",
      "Epoch [59/500], Loss: 0.8861\n",
      "Validation Loss: 1.2225, Validation Accuracy: 0.6621\n",
      "\n",
      "Epoch [60/500], Loss: 0.8705\n",
      "Validation Loss: 1.2159, Validation Accuracy: 0.6525\n",
      "\n",
      "Epoch [61/500], Loss: 0.8774\n",
      "Validation Loss: 1.2113, Validation Accuracy: 0.6552\n",
      "\n",
      "Epoch [62/500], Loss: 0.8328\n",
      "Validation Loss: 1.1925, Validation Accuracy: 0.6656\n",
      "\n",
      "Epoch [63/500], Loss: 0.8155\n",
      "Validation Loss: 1.1814, Validation Accuracy: 0.6608\n",
      "\n",
      "Epoch [64/500], Loss: 0.8172\n",
      "Validation Loss: 1.1830, Validation Accuracy: 0.6656\n",
      "\n",
      "Epoch [65/500], Loss: 0.8041\n",
      "Validation Loss: 1.1881, Validation Accuracy: 0.6760\n",
      "\n",
      "Epoch [66/500], Loss: 0.8091\n",
      "Validation Loss: 1.1555, Validation Accuracy: 0.6795\n",
      "\n",
      "Epoch [67/500], Loss: 0.7790\n",
      "Validation Loss: 1.1500, Validation Accuracy: 0.6726\n",
      "\n",
      "Epoch [68/500], Loss: 0.7785\n",
      "Validation Loss: 1.1556, Validation Accuracy: 0.6691\n",
      "\n",
      "Epoch [69/500], Loss: 0.7735\n",
      "Validation Loss: 1.1282, Validation Accuracy: 0.6969\n",
      "\n",
      "Epoch [70/500], Loss: 0.7425\n",
      "Validation Loss: 1.1524, Validation Accuracy: 0.6795\n",
      "\n",
      "Epoch [71/500], Loss: 0.7331\n",
      "Validation Loss: 1.1276, Validation Accuracy: 0.6830\n",
      "\n",
      "Epoch [72/500], Loss: 0.7282\n",
      "Validation Loss: 1.1173, Validation Accuracy: 0.6947\n",
      "\n",
      "Epoch [73/500], Loss: 0.7260\n",
      "Validation Loss: 1.1141, Validation Accuracy: 0.6947\n",
      "\n",
      "Epoch [74/500], Loss: 0.7104\n",
      "Validation Loss: 1.1050, Validation Accuracy: 0.7017\n",
      "\n",
      "Epoch [75/500], Loss: 0.7120\n",
      "Validation Loss: 1.1077, Validation Accuracy: 0.6774\n",
      "\n",
      "Epoch [76/500], Loss: 0.6800\n",
      "Validation Loss: 1.0980, Validation Accuracy: 0.6982\n",
      "\n",
      "Epoch [77/500], Loss: 0.7034\n",
      "Validation Loss: 1.0801, Validation Accuracy: 0.6982\n",
      "\n",
      "Epoch [78/500], Loss: 0.6556\n",
      "Validation Loss: 1.0854, Validation Accuracy: 0.7121\n",
      "\n",
      "Epoch [79/500], Loss: 0.6567\n",
      "Validation Loss: 1.0654, Validation Accuracy: 0.6982\n",
      "\n",
      "Epoch [80/500], Loss: 0.6489\n",
      "Validation Loss: 1.0555, Validation Accuracy: 0.7156\n",
      "\n",
      "Epoch [81/500], Loss: 0.6531\n",
      "Validation Loss: 1.0670, Validation Accuracy: 0.7086\n",
      "\n",
      "Epoch [82/500], Loss: 0.6485\n",
      "Validation Loss: 1.0606, Validation Accuracy: 0.7156\n",
      "\n",
      "Epoch [83/500], Loss: 0.6200\n",
      "Validation Loss: 1.0383, Validation Accuracy: 0.7191\n",
      "\n",
      "Epoch [84/500], Loss: 0.6210\n",
      "Validation Loss: 1.0363, Validation Accuracy: 0.7191\n",
      "\n",
      "Epoch [85/500], Loss: 0.5780\n",
      "Validation Loss: 1.0333, Validation Accuracy: 0.7191\n",
      "\n",
      "Epoch [86/500], Loss: 0.5912\n",
      "Validation Loss: 1.0304, Validation Accuracy: 0.7191\n",
      "\n",
      "Epoch [87/500], Loss: 0.5793\n",
      "Validation Loss: 1.0258, Validation Accuracy: 0.7225\n",
      "\n",
      "Epoch [88/500], Loss: 0.5739\n",
      "Validation Loss: 1.0091, Validation Accuracy: 0.7468\n",
      "\n",
      "Epoch [89/500], Loss: 0.5619\n",
      "Validation Loss: 1.0166, Validation Accuracy: 0.7329\n",
      "\n",
      "Epoch [90/500], Loss: 0.5503\n",
      "Validation Loss: 1.0086, Validation Accuracy: 0.7378\n",
      "\n",
      "Epoch [91/500], Loss: 0.5440\n",
      "Validation Loss: 1.0037, Validation Accuracy: 0.7191\n",
      "\n",
      "Epoch [92/500], Loss: 0.5534\n",
      "Validation Loss: 1.0047, Validation Accuracy: 0.7308\n",
      "\n",
      "Epoch [93/500], Loss: 0.5359\n",
      "Validation Loss: 0.9841, Validation Accuracy: 0.7412\n",
      "\n",
      "Epoch [94/500], Loss: 0.5198\n",
      "Validation Loss: 0.9984, Validation Accuracy: 0.7274\n",
      "\n",
      "Epoch [95/500], Loss: 0.5223\n",
      "Validation Loss: 0.9721, Validation Accuracy: 0.7343\n",
      "\n",
      "Epoch [96/500], Loss: 0.5181\n",
      "Validation Loss: 0.9808, Validation Accuracy: 0.7343\n",
      "\n",
      "Epoch [97/500], Loss: 0.4888\n",
      "Validation Loss: 0.9692, Validation Accuracy: 0.7357\n",
      "\n",
      "Epoch [98/500], Loss: 0.4964\n",
      "Validation Loss: 0.9588, Validation Accuracy: 0.7391\n",
      "\n",
      "Epoch [99/500], Loss: 0.4743\n",
      "Validation Loss: 0.9573, Validation Accuracy: 0.7495\n",
      "\n",
      "Epoch [100/500], Loss: 0.4787\n",
      "Validation Loss: 0.9512, Validation Accuracy: 0.7357\n",
      "\n",
      "Epoch [101/500], Loss: 0.4782\n",
      "Validation Loss: 0.9490, Validation Accuracy: 0.7378\n",
      "\n",
      "Epoch [102/500], Loss: 0.4701\n",
      "Validation Loss: 0.9541, Validation Accuracy: 0.7343\n",
      "\n",
      "Epoch [103/500], Loss: 0.4569\n",
      "Validation Loss: 0.9439, Validation Accuracy: 0.7447\n",
      "\n",
      "Epoch [104/500], Loss: 0.4496\n",
      "Validation Loss: 0.9325, Validation Accuracy: 0.7517\n",
      "\n",
      "Epoch [105/500], Loss: 0.4331\n",
      "Validation Loss: 0.9294, Validation Accuracy: 0.7447\n",
      "\n",
      "Epoch [106/500], Loss: 0.4214\n",
      "Validation Loss: 0.9356, Validation Accuracy: 0.7495\n",
      "\n",
      "Epoch [107/500], Loss: 0.4337\n",
      "Validation Loss: 0.9154, Validation Accuracy: 0.7530\n",
      "\n",
      "Epoch [108/500], Loss: 0.4203\n",
      "Validation Loss: 0.9289, Validation Accuracy: 0.7378\n",
      "\n",
      "Epoch [109/500], Loss: 0.4098\n",
      "Validation Loss: 0.9140, Validation Accuracy: 0.7613\n",
      "\n",
      "Epoch [110/500], Loss: 0.4143\n",
      "Validation Loss: 0.9020, Validation Accuracy: 0.7495\n",
      "\n",
      "Epoch [111/500], Loss: 0.4238\n",
      "Validation Loss: 0.9081, Validation Accuracy: 0.7717\n",
      "\n",
      "Epoch [112/500], Loss: 0.4132\n",
      "Validation Loss: 0.9029, Validation Accuracy: 0.7530\n",
      "\n",
      "Epoch [113/500], Loss: 0.3868\n",
      "Validation Loss: 0.9065, Validation Accuracy: 0.7669\n",
      "\n",
      "Epoch [114/500], Loss: 0.3938\n",
      "Validation Loss: 0.9063, Validation Accuracy: 0.7600\n",
      "\n",
      "Epoch [115/500], Loss: 0.3778\n",
      "Validation Loss: 0.8984, Validation Accuracy: 0.7495\n",
      "\n",
      "Epoch [116/500], Loss: 0.3759\n",
      "Validation Loss: 0.8994, Validation Accuracy: 0.7482\n",
      "\n",
      "Epoch [117/500], Loss: 0.3768\n",
      "Validation Loss: 0.8956, Validation Accuracy: 0.7600\n",
      "\n",
      "Epoch [118/500], Loss: 0.3815\n",
      "Validation Loss: 0.9037, Validation Accuracy: 0.7495\n",
      "\n",
      "Epoch [119/500], Loss: 0.3788\n",
      "Validation Loss: 0.9143, Validation Accuracy: 0.7495\n",
      "\n",
      "Epoch [120/500], Loss: 0.3936\n",
      "Validation Loss: 0.8937, Validation Accuracy: 0.7551\n",
      "\n",
      "Epoch [121/500], Loss: 0.3799\n",
      "Validation Loss: 0.9011, Validation Accuracy: 0.7426\n",
      "\n",
      "Epoch [122/500], Loss: 0.3781\n",
      "Validation Loss: 0.8957, Validation Accuracy: 0.7634\n",
      "\n",
      "Epoch [123/500], Loss: 0.3783\n",
      "Validation Loss: 0.8980, Validation Accuracy: 0.7461\n",
      "\n",
      "Epoch [124/500], Loss: 0.3753\n",
      "Validation Loss: 0.8980, Validation Accuracy: 0.7447\n",
      "\n",
      "Epoch [125/500], Loss: 0.3825\n",
      "Validation Loss: 0.8922, Validation Accuracy: 0.7530\n",
      "\n",
      "Epoch [126/500], Loss: 0.3777\n",
      "Validation Loss: 0.8988, Validation Accuracy: 0.7517\n",
      "\n",
      "Epoch [127/500], Loss: 0.3911\n",
      "Validation Loss: 0.8967, Validation Accuracy: 0.7482\n",
      "\n",
      "Epoch [128/500], Loss: 0.3858\n",
      "Validation Loss: 0.9035, Validation Accuracy: 0.7551\n",
      "\n",
      "Epoch [129/500], Loss: 0.3643\n",
      "Validation Loss: 0.8857, Validation Accuracy: 0.7579\n",
      "\n",
      "Epoch [130/500], Loss: 0.3867\n",
      "Validation Loss: 0.8854, Validation Accuracy: 0.7482\n",
      "\n",
      "Epoch [131/500], Loss: 0.3745\n",
      "Validation Loss: 0.8992, Validation Accuracy: 0.7461\n",
      "\n",
      "Epoch [132/500], Loss: 0.3687\n",
      "Validation Loss: 0.8959, Validation Accuracy: 0.7482\n",
      "\n",
      "Epoch [133/500], Loss: 0.3637\n",
      "Validation Loss: 0.8813, Validation Accuracy: 0.7669\n",
      "\n",
      "Epoch [134/500], Loss: 0.3708\n",
      "Validation Loss: 0.8865, Validation Accuracy: 0.7634\n",
      "\n",
      "Epoch [135/500], Loss: 0.3681\n",
      "Validation Loss: 0.8858, Validation Accuracy: 0.7600\n",
      "\n",
      "Epoch [136/500], Loss: 0.3623\n",
      "Validation Loss: 0.8867, Validation Accuracy: 0.7530\n",
      "\n",
      "Epoch [137/500], Loss: 0.3534\n",
      "Validation Loss: 0.8923, Validation Accuracy: 0.7586\n",
      "\n",
      "Epoch [138/500], Loss: 0.3596\n",
      "Validation Loss: 0.8962, Validation Accuracy: 0.7648\n",
      "\n",
      "Epoch [139/500], Loss: 0.3708\n",
      "Validation Loss: 0.8997, Validation Accuracy: 0.7517\n",
      "\n",
      "Epoch [140/500], Loss: 0.3702\n",
      "Validation Loss: 0.8893, Validation Accuracy: 0.7600\n",
      "\n",
      "Epoch [141/500], Loss: 0.3638\n",
      "Validation Loss: 0.8958, Validation Accuracy: 0.7586\n",
      "\n",
      "Epoch [142/500], Loss: 0.3745\n",
      "Validation Loss: 0.9022, Validation Accuracy: 0.7495\n",
      "\n",
      "Epoch [143/500], Loss: 0.3706\n",
      "Validation Loss: 0.8948, Validation Accuracy: 0.7600\n",
      "\n",
      "Epoch [144/500], Loss: 0.3651\n",
      "Validation Loss: 0.8981, Validation Accuracy: 0.7495\n",
      "\n",
      "Epoch [145/500], Loss: 0.3659\n",
      "Validation Loss: 0.8926, Validation Accuracy: 0.7600\n",
      "\n",
      "Epoch [146/500], Loss: 0.3556\n",
      "Validation Loss: 0.8875, Validation Accuracy: 0.7655\n",
      "\n",
      "Epoch [147/500], Loss: 0.3658\n",
      "Validation Loss: 0.8859, Validation Accuracy: 0.7634\n",
      "\n",
      "Epoch [148/500], Loss: 0.3561\n",
      "Validation Loss: 0.8905, Validation Accuracy: 0.7565\n",
      "\n",
      "Epoch [149/500], Loss: 0.3713\n",
      "Validation Loss: 0.8956, Validation Accuracy: 0.7530\n",
      "\n",
      "Early stopping at epoch 149.\n"
     ]
    }
   ],
   "source": [
    "best_loss = np.inf\n",
    "patience = 20\n",
    "min_delta = 0.01\n",
    "early_stop_counter = 0\n",
    "\n",
    "train_losses = []\n",
    "val_losses = []\n",
    "val_accs = []\n",
    "final_epoch = 0\n",
    "\n",
    "for epoch in range(num_epochs):\n",
    "    \n",
    "    # train\n",
    "    model.train()\n",
    "    running_loss = 0.\n",
    "    running_accuracy = 0.\n",
    "\n",
    "    for data in train_loader:\n",
    "        inputs, labels = data\n",
    "        \n",
    "        optimizer.zero_grad()  # zero gradients\n",
    "        \n",
    "        outputs = model.forward(inputs)  # input net\n",
    "        \n",
    "        #print(type(outputs))\n",
    "        \n",
    "        labels = labels.long()\n",
    "        \n",
    "        loss = criterion(outputs, labels)\n",
    "        loss.backward()\n",
    "\n",
    "#         outputs = F.softmax(outputs, dim=1)\n",
    "#         top_p, top_class = outputs.topk(k=1, dim=1)\n",
    "\n",
    "#         equals = top_class == labels.view(*top_class.shape)\n",
    "\n",
    "#         running_accuracy += torch.mean(equals.type(torch.FloatTensor))\n",
    "\n",
    "        optimizer.step()\n",
    "\n",
    "        running_loss += loss.item()\n",
    "        \n",
    "#         _, predicted = torch.max(outputs.data, 1)  \n",
    "#         accuracy = (predicted == labels).float().mean()\n",
    "#         running_accuracy += accuracy.item()\n",
    "\n",
    "    epoch_loss = running_loss / len(train_loader)\n",
    "    #epoch_accuracy = running_accuracy / len(train_loader)\n",
    "    \n",
    "    print(f\"Epoch [{epoch + 1}/{num_epochs}], Loss: {epoch_loss:.4f}\")\n",
    "    train_losses.append(epoch_loss)\n",
    "    \n",
    "    # val\n",
    "    model.eval()\n",
    "    val_loss = 0.0\n",
    "    val_accuracy = 0.0\n",
    "    correct = total = 0\n",
    "\n",
    "    with torch.no_grad():\n",
    "        for data in val_loader:\n",
    "            inputs, labels = data\n",
    "\n",
    "            outputs = model(inputs)\n",
    "            labels = labels.long()\n",
    "\n",
    "            loss = criterion(outputs, labels)\n",
    "            val_loss += loss.item()\n",
    "\n",
    "            _, predicted = torch.max(outputs.data, 1)\n",
    "            accuracy = (predicted == labels).float().mean()\n",
    "            val_accuracy += accuracy.item()\n",
    "\n",
    "    val_loss /= len(val_loader)\n",
    "    val_accuracy /= len(val_loader)\n",
    "\n",
    "    print(f\"Validation Loss: {val_loss:.4f}, Validation Accuracy: {val_accuracy:.4f}\\n\")\n",
    "    val_losses.append(val_loss)\n",
    "    val_accs.append(val_accuracy)\n",
    "\n",
    "    \n",
    "    # Early stopping\n",
    "    if val_loss < best_loss - min_delta:\n",
    "        best_loss = val_loss\n",
    "        early_stop_counter = 0  \n",
    "        #best_model_state = model.state_dict()  \n",
    "    else:\n",
    "        early_stop_counter += 1\n",
    "    \n",
    "    if early_stop_counter >= patience:\n",
    "        print(f\"Early stopping at epoch {epoch+1}.\")\n",
    "        final_epoch = epoch+1\n",
    "        #model.load_state_dict(best_model_state) \n",
    "        break\n",
    "        \n",
    "    scheduler.step(val_loss)"
   ]
  },
  {
   "cell_type": "markdown",
   "id": "39f51384",
   "metadata": {
    "papermill": {
     "duration": 0.026229,
     "end_time": "2024-11-21T17:48:17.924214",
     "exception": false,
     "start_time": "2024-11-21T17:48:17.897985",
     "status": "completed"
    },
    "tags": []
   },
   "source": [
    "## Results"
   ]
  },
  {
   "cell_type": "markdown",
   "id": "02d2e2f1",
   "metadata": {
    "papermill": {
     "duration": 0.025991,
     "end_time": "2024-11-21T17:48:17.976845",
     "exception": false,
     "start_time": "2024-11-21T17:48:17.950854",
     "status": "completed"
    },
    "tags": []
   },
   "source": [
    "### Training/Validation Loss and Validation Accuracy"
   ]
  },
  {
   "cell_type": "code",
   "execution_count": 58,
   "id": "1c791354",
   "metadata": {
    "execution": {
     "iopub.execute_input": "2024-11-21T17:48:18.031367Z",
     "iopub.status.busy": "2024-11-21T17:48:18.03095Z",
     "iopub.status.idle": "2024-11-21T17:48:18.551589Z",
     "shell.execute_reply": "2024-11-21T17:48:18.550474Z"
    },
    "papermill": {
     "duration": 0.551098,
     "end_time": "2024-11-21T17:48:18.554155",
     "exception": false,
     "start_time": "2024-11-21T17:48:18.003057",
     "status": "completed"
    },
    "tags": []
   },
   "outputs": [
    {
     "data": {
      "image/png": "[encoded data removed]",
      "text/plain": [
       "<Figure size 1000x500 with 2 Axes>"
      ]
     },
     "metadata": {},
     "output_type": "display_data"
    }
   ],
   "source": [
    "plt.figure(figsize = (10, 5))\n",
    "\n",
    "plt.subplot(1, 2, 1)\n",
    "plt.plot(train_losses, label = 'Training Loss')\n",
    "plt.plot(val_losses, label = 'Validation Loss')\n",
    "plt.xlabel('Epoch')\n",
    "plt.ylabel('Loss')\n",
    "plt.legend()\n",
    "\n",
    "plt.subplot(1, 2, 2)\n",
    "plt.plot(val_accs, label = 'Validation Accuracy')\n",
    "plt.xlabel('Epoch')\n",
    "plt.ylabel('Accuracy (%)')\n",
    "plt.legend()\n",
    "\n",
    "plt.savefig('training_validation_plot.png')\n",
    "plt.show()"
   ]
  },
  {
   "cell_type": "markdown",
   "id": "b17655b2",
   "metadata": {
    "papermill": {
     "duration": 0.027292,
     "end_time": "2024-11-21T17:48:18.609287",
     "exception": false,
     "start_time": "2024-11-21T17:48:18.581995",
     "status": "completed"
    },
    "tags": []
   },
   "source": [
    "### Accuracy general"
   ]
  },
  {
   "cell_type": "code",
   "execution_count": 59,
   "id": "50ed6c56",
   "metadata": {
    "execution": {
     "iopub.execute_input": "2024-11-21T17:48:18.665966Z",
     "iopub.status.busy": "2024-11-21T17:48:18.664986Z",
     "iopub.status.idle": "2024-11-21T17:48:18.698431Z",
     "shell.execute_reply": "2024-11-21T17:48:18.697193Z"
    },
    "papermill": {
     "duration": 0.064689,
     "end_time": "2024-11-21T17:48:18.701053",
     "exception": false,
     "start_time": "2024-11-21T17:48:18.636364",
     "status": "completed"
    },
    "tags": []
   },
   "outputs": [
    {
     "name": "stdout",
     "output_type": "stream",
     "text": [
      "Accuracy in the test set: 71.43%\n"
     ]
    }
   ],
   "source": [
    "model.eval()\n",
    "correct = 0\n",
    "total = 0\n",
    "with torch.no_grad():\n",
    "    for inputs, labels in test_loader:\n",
    "        outputs = model(inputs)\n",
    "        _, predicted = torch.max(outputs, 1)\n",
    "        total += labels.size(0)\n",
    "        correct += (predicted == labels).sum().item()\n",
    "\n",
    "accuracy = 100 * correct / total\n",
    "print(f\"Accuracy in the test set: {accuracy:.2f}%\")"
   ]
  },
  {
   "cell_type": "markdown",
   "id": "93c2c029",
   "metadata": {
    "papermill": {
     "duration": 0.030082,
     "end_time": "2024-11-21T17:48:18.759233",
     "exception": false,
     "start_time": "2024-11-21T17:48:18.729151",
     "status": "completed"
    },
    "tags": []
   },
   "source": [
    "### Accuracy by class"
   ]
  },
  {
   "cell_type": "code",
   "execution_count": 60,
   "id": "1583aad6",
   "metadata": {
    "execution": {
     "iopub.execute_input": "2024-11-21T17:48:18.817673Z",
     "iopub.status.busy": "2024-11-21T17:48:18.816891Z",
     "iopub.status.idle": "2024-11-21T17:48:18.857367Z",
     "shell.execute_reply": "2024-11-21T17:48:18.856241Z"
    },
    "papermill": {
     "duration": 0.071824,
     "end_time": "2024-11-21T17:48:18.859762",
     "exception": false,
     "start_time": "2024-11-21T17:48:18.787938",
     "status": "completed"
    },
    "tags": []
   },
   "outputs": [
    {
     "name": "stdout",
     "output_type": "stream",
     "text": [
      "                                    precision    recall  f1-score   support\n",
      "\n",
      "                Addictive disorder     0.5667    0.5312    0.5484        32\n",
      "                  Anxiety disorder     0.8095    0.8947    0.8500        38\n",
      "                   Healthy control     0.6829    0.8235    0.7467        34\n",
      "                     Mood disorder     0.4667    0.2979    0.3636        47\n",
      "     Obsessive compulsive disorder     0.8636    0.9744    0.9157        39\n",
      "                     Schizophrenia     0.7000    0.7447    0.7216        47\n",
      "Trauma and stress related disorder     0.7907    0.7907    0.7907        43\n",
      "\n",
      "                          accuracy                         0.7143       280\n",
      "                         macro avg     0.6972    0.7224    0.7052       280\n",
      "                      weighted avg     0.6951    0.7143    0.6998       280\n",
      "\n"
     ]
    }
   ],
   "source": [
    "model.eval()\n",
    "all_preds = []\n",
    "all_labels = []\n",
    "\n",
    "with torch.no_grad():\n",
    "    for inputs, labels in test_loader:\n",
    "        outputs = model(inputs) \n",
    "        _, predicted = torch.max(outputs, 1)  \n",
    "        all_preds.extend(predicted.cpu().numpy())  \n",
    "        all_labels.extend(labels.cpu().numpy())\n",
    "\n",
    "report = classification_report(all_labels, all_preds, target_names=column_names, digits=4)  \n",
    "print(report)"
   ]
  },
  {
   "cell_type": "markdown",
   "id": "f16bb053",
   "metadata": {
    "papermill": {
     "duration": 0.02743,
     "end_time": "2024-11-21T17:48:18.915868",
     "exception": false,
     "start_time": "2024-11-21T17:48:18.888438",
     "status": "completed"
    },
    "tags": []
   },
   "source": [
    "### Confusion matrix by class"
   ]
  },
  {
   "cell_type": "code",
   "execution_count": 61,
   "id": "aa5c9fb0",
   "metadata": {
    "execution": {
     "iopub.execute_input": "2024-11-21T17:48:18.974172Z",
     "iopub.status.busy": "2024-11-21T17:48:18.973724Z",
     "iopub.status.idle": "2024-11-21T17:48:19.800478Z",
     "shell.execute_reply": "2024-11-21T17:48:19.799297Z"
    },
    "papermill": {
     "duration": 0.858858,
     "end_time": "2024-11-21T17:48:19.802897",
     "exception": false,
     "start_time": "2024-11-21T17:48:18.944039",
     "status": "completed"
    },
    "tags": []
   },
   "outputs": [
    {
     "data": {
      "image/png": "[encoded data removed]",
      "text/plain": [
       "<Figure size 1000x800 with 2 Axes>"
      ]
     },
     "metadata": {},
     "output_type": "display_data"
    }
   ],
   "source": [
    "def plot_confusion_matrix(model, test_loader, class_names):\n",
    "    model.eval()\n",
    "    all_preds = []\n",
    "    all_labels = []\n",
    "\n",
    "    with torch.no_grad():\n",
    "        for inputs, labels in test_loader:\n",
    "            outputs = model(inputs)  # Model outputs\n",
    "            outputs = F.softmax(outputs, dim=1)  # Probs\n",
    "            top_p, top_class = outputs.topk(k=1, dim=1)  # Pred class\n",
    "            all_preds.extend(top_class.cpu().numpy())  # Preds\n",
    "            all_labels.extend(labels.cpu().numpy())  # True class\n",
    "\n",
    "    all_preds = np.array(all_preds)\n",
    "    all_labels = np.array(all_labels)\n",
    "\n",
    "    cm = confusion_matrix(all_labels, all_preds, labels=np.arange(len(class_names)))\n",
    "\n",
    "    plt.figure(figsize=(10, 8))\n",
    "    sns.heatmap(cm, annot=True, fmt='d', cmap='Blues', xticklabels=class_names, yticklabels=class_names)\n",
    "    plt.xlabel('Predicted Class')\n",
    "    plt.ylabel('True Class')\n",
    "    plt.title(f'Confusion Matrix')\n",
    "    plt.tight_layout()\n",
    "    plt.savefig('confusion_matrix.png')\n",
    "    plt.show()\n",
    "\n",
    "\n",
    "plot_confusion_matrix(model, test_loader, column_names)"
   ]
  },
  {
   "cell_type": "markdown",
   "id": "ddae9d3b",
   "metadata": {
    "papermill": {
     "duration": 0.028748,
     "end_time": "2024-11-21T17:48:19.861395",
     "exception": false,
     "start_time": "2024-11-21T17:48:19.832647",
     "status": "completed"
    },
    "tags": []
   },
   "source": [
    "### ROC Curves by Class"
   ]
  },
  {
   "cell_type": "code",
   "execution_count": 62,
   "id": "86e7e522",
   "metadata": {
    "execution": {
     "iopub.execute_input": "2024-11-21T17:48:19.921478Z",
     "iopub.status.busy": "2024-11-21T17:48:19.92045Z",
     "iopub.status.idle": "2024-11-21T17:48:19.966171Z",
     "shell.execute_reply": "2024-11-21T17:48:19.965076Z"
    },
    "papermill": {
     "duration": 0.078094,
     "end_time": "2024-11-21T17:48:19.968418",
     "exception": false,
     "start_time": "2024-11-21T17:48:19.890324",
     "status": "completed"
    },
    "tags": []
   },
   "outputs": [
    {
     "name": "stdout",
     "output_type": "stream",
     "text": [
      "AUC per class: [0.8959173387096774, 0.9783601565898217, 0.9643711142993783, 0.8391014519221989, 0.995850622406639, 0.9331567893343073, 0.9610440584829751]\n",
      "Mean AUC: 0.9383\n"
     ]
    }
   ],
   "source": [
    "def evaluate_auc(model, test_loader, num_classes):\n",
    "    model.eval()\n",
    "    all_preds = []\n",
    "    all_labels = []\n",
    "    \n",
    "    with torch.no_grad():\n",
    "        for inputs, labels in test_loader:\n",
    "            outputs = model(inputs)\n",
    "            \n",
    "            probs = torch.softmax(outputs, dim=1)\n",
    "            all_preds.extend(probs.cpu().numpy())  \n",
    "            all_labels.extend(labels.cpu().numpy())\n",
    "\n",
    "    all_preds = np.array(all_preds)\n",
    "    all_labels = np.array(all_labels)\n",
    "\n",
    "    aucs = []\n",
    "    for i in range(num_classes):\n",
    "        auc = roc_auc_score(all_labels == i, all_preds[:, i])\n",
    "        aucs.append(auc)\n",
    "\n",
    "    mean_auc = np.mean(aucs)\n",
    "    \n",
    "    print(f\"AUC per class: {aucs}\")\n",
    "    print(f\"Mean AUC: {mean_auc:.4f}\")\n",
    "    \n",
    "    return aucs, mean_auc\n",
    "\n",
    "aucs, mean_auc = evaluate_auc(model, test_loader, num_classes=7)"
   ]
  },
  {
   "cell_type": "code",
   "execution_count": 63,
   "id": "547e94a6",
   "metadata": {
    "execution": {
     "iopub.execute_input": "2024-11-21T17:48:20.028208Z",
     "iopub.status.busy": "2024-11-21T17:48:20.0278Z",
     "iopub.status.idle": "2024-11-21T17:48:20.608324Z",
     "shell.execute_reply": "2024-11-21T17:48:20.607354Z"
    },
    "papermill": {
     "duration": 0.613904,
     "end_time": "2024-11-21T17:48:20.61147",
     "exception": false,
     "start_time": "2024-11-21T17:48:19.997566",
     "status": "completed"
    },
    "tags": []
   },
   "outputs": [
    {
     "data": {
      "image/png": "[encoded data removed]",
      "text/plain": [
       "<Figure size 1000x800 with 1 Axes>"
      ]
     },
     "metadata": {},
     "output_type": "display_data"
    }
   ],
   "source": [
    "def plot_roc_curve(model, test_loader, class_names):\n",
    "    model.eval()\n",
    "    all_preds = []\n",
    "    all_labels = []\n",
    "\n",
    "    with torch.no_grad():\n",
    "        for inputs, labels in test_loader:\n",
    "            outputs = model(inputs)\n",
    "            probs = torch.softmax(outputs, dim=1)\n",
    "            all_preds.extend(probs.cpu().numpy())\n",
    "            all_labels.extend(labels.cpu().numpy())\n",
    "\n",
    "    all_preds = np.array(all_preds)\n",
    "    all_labels = np.array(all_labels)\n",
    "\n",
    "    plt.figure(figsize=(10, 8))\n",
    "\n",
    "    for i, class_name in enumerate(class_names):\n",
    "        fpr, tpr, _ = roc_curve(all_labels == i, all_preds[:, i])\n",
    "        auc = roc_auc_score(all_labels == i, all_preds[:, i])\n",
    "        plt.plot(fpr, tpr, label=f'{class_name} (AUC = {auc:.4f})')\n",
    "\n",
    "    plt.plot([0, 1], [0, 1], 'k--', label='Chance (AUC = 0.5)')\n",
    "\n",
    "    plt.xlabel('FPR (False Positive Rate)')\n",
    "    plt.ylabel('TPR (True Positive Rate)')\n",
    "    plt.title('ROC Curves by Class')\n",
    "    plt.legend(loc='lower right')\n",
    "    plt.savefig('roc_curves_class.png')\n",
    "    plt.show()\n",
    "\n",
    "plot_roc_curve(model, test_loader, column_names)"
   ]
  },
  {
   "cell_type": "code",
   "execution_count": 64,
   "id": "b012e8d4",
   "metadata": {
    "execution": {
     "iopub.execute_input": "2024-11-21T17:48:20.674043Z",
     "iopub.status.busy": "2024-11-21T17:48:20.673371Z",
     "iopub.status.idle": "2024-11-21T17:48:20.681407Z",
     "shell.execute_reply": "2024-11-21T17:48:20.680335Z"
    },
    "papermill": {
     "duration": 0.041577,
     "end_time": "2024-11-21T17:48:20.683747",
     "exception": false,
     "start_time": "2024-11-21T17:48:20.64217",
     "status": "completed"
    },
    "tags": []
   },
   "outputs": [],
   "source": [
    "def log_results(filename, **kwargs):\n",
    "    file_exists = os.path.isfile(filename)\n",
    "    \n",
    "    with open(filename, mode='a', newline='') as file:\n",
    "        writer = csv.DictWriter(file, fieldnames=kwargs.keys())\n",
    "        \n",
    "        if not file_exists:\n",
    "            writer.writeheader()\n",
    "            \n",
    "        writer.writerow(kwargs)\n",
    "        \n",
    "results_file = \"results.csv\"\n",
    "\n",
    "log_results(\n",
    "        results_file,\n",
    "        final_epoch=final_epoch,\n",
    "        number_of_neurons=selected_neurons,\n",
    "        train_ratio=train_ratio,\n",
    "        val_ratio=val_ratio,\n",
    "        batch_size=batch_size,\n",
    "        dropout=dropout,\n",
    "        learning_rate=float(learning_rate),\n",
    "        output_dim=output_dim,\n",
    "        input_dim=input_dim,\n",
    "        aucs=aucs,\n",
    "        mean_auc=mean_auc,\n",
    "        report=report,\n",
    "        accuracy=accuracy,\n",
    "    )"
   ]
  },
  {
   "cell_type": "markdown",
   "id": "8fc72ccb",
   "metadata": {
    "papermill": {
     "duration": 0.030435,
     "end_time": "2024-11-21T17:48:20.74518",
     "exception": false,
     "start_time": "2024-11-21T17:48:20.714745",
     "status": "completed"
    },
    "tags": []
   },
   "source": [
    "## Conclusions, Problems, and Limitations"
   ]
  },
  {
   "cell_type": "markdown",
   "id": "512b5d66",
   "metadata": {
    "papermill": {
     "duration": 0.03075,
     "end_time": "2024-11-21T17:48:20.808076",
     "exception": false,
     "start_time": "2024-11-21T17:48:20.777326",
     "status": "completed"
    },
    "tags": []
   },
   "source": [
    "* The class imbalance is evident for the multiclasses of the main.disorder variable. The SMOTE technique was applied to balance the classes and perform data augmentation.\n",
    "\n",
    "* The data pre-processed with PSD and FC generated 1140 features. PCA with 99% variance was applied to the data, and thus 223 principal components were extracted.\n",
    "\n",
    "* To avoid overfitting, techniques such as dropout, batch normalization, and early stopping were applied.\n",
    "\n",
    "* The weights were initialized in the network with xavier_uniform.\n",
    "\n",
    "* The network has convergence issues due to the high variability of the data. Despite using PCA, there were no significant improvements in performance compared to using all features from PSD and FC.\n",
    "\n",
    "* Due to the enrichment of the data, the minority class obsessive compulsive disorder shows a tendency to overfitting, as the original data was 46 and increased to 266 with Euclidean distance."
   ]
  },
  {
   "cell_type": "code",
   "execution_count": null,
   "id": "6d709fb2",
   "metadata": {
    "papermill": {
     "duration": 0.029693,
     "end_time": "2024-11-21T17:48:20.868353",
     "exception": false,
     "start_time": "2024-11-21T17:48:20.83866",
     "status": "completed"
    },
    "tags": []
   },
   "outputs": [],
   "source": []
  }
 ],
 "metadata": {
  "kaggle": {
   "accelerator": "none",
   "dataSources": [
    {
     "datasetId": 1960298,
     "sourceId": 3233540,
     "sourceType": "datasetVersion"
    }
   ],
   "dockerImageVersionId": 30786,
   "isGpuEnabled": false,
   "isInternetEnabled": true,
   "language": "python",
   "sourceType": "notebook"
  },
  "kernelspec": {
   "display_name": "python3",
   "language": "",
   "name": "python3"
  },
  "language_info": {
   "codemirror_mode": {
    "name": "ipython",
    "version": 3
   },
   "file_extension": ".py",
   "mimetype": "text/x-python",
   "name": "python",
   "nbconvert_exporter": "python",
   "pygments_lexer": "ipython3",
   "version": "3.10.14"
  },
  "papermill": {
   "default_parameters": {},
   "duration": 138.166714,
   "end_time": "2024-11-21T17:48:22.32305",
   "environment_variables": {},
   "exception": null,
   "input_path": "__notebook__.ipynb",
   "output_path": "__notebook__.ipynb",
   "parameters": {},
   "start_time": "2024-11-21T17:46:04.156336",
   "version": "2.6.0"
  }
 },
 "nbformat": 4,
 "nbformat_minor": 5
}
